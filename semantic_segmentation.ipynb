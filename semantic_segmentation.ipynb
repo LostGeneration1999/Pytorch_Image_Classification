{
 "cells": [
  {
   "cell_type": "code",
   "execution_count": 1,
   "metadata": {},
   "outputs": [],
   "source": [
    "import random\n",
    "import math\n",
    "import time\n",
    "import pandas as pd\n",
    "import numpy as np\n",
    "import os\n",
    "import os.path as osp\n",
    "from PIL import Image\n",
    "\n",
    "import torch.utils.data as data\n",
    "\n",
    "rootpath = './PascalVOC/'\n",
    "\n",
    "# パッケージのimport\n",
    "import torch\n",
    "import torch.utils.data as data\n",
    "import torch.nn as nn\n",
    "import torch.nn.init as init\n",
    "import torch.nn.functional as F\n",
    "import torch.optim as optim\n",
    "\n",
    "torch.manual_seed(1234)\n",
    "np.random.seed(1234)\n",
    "random.seed(1234)"
   ]
  },
  {
   "cell_type": "code",
   "execution_count": 2,
   "metadata": {},
   "outputs": [
    {
     "name": "stdout",
     "output_type": "stream",
     "text": [
      "['DJI_0174_5_3', 'DJI_0174_7_1', 'DJI_0174_5_1', 'DJI_0174_4_2', 'DJI_0174_4_3', 'DJI_0174_1_3', 'DJI_0174_2_1', 'DJI_0174_1_1', 'DJI_0174_4_1', 'DJI_0174_7_2', 'DJI_0174_3_3', 'DJI_0174_5_2', 'DJI_0174_6_1', 'DJI_0174_1_2']\n",
      "['DJI_0174_2_2', 'DJI_0174_6_2', 'DJI_0174_3_2', 'DJI_0174_3_1']\n"
     ]
    }
   ],
   "source": [
    "import glob\n",
    "\n",
    "def image_list(path, train, validation):\n",
    "    \n",
    "    lis = glob.glob(rootpath+'JPEGImages/*.jpg')\n",
    "    for i,l in enumerate(lis):\n",
    "        lis[i] = l.split('/')[3][:-4]\n",
    "    l_train = [l for i,l in enumerate(lis) if i%5!=0 ]\n",
    "    l_val = [l for i,l in enumerate(lis) if i%5==0 ]\n",
    "    print(l_train)\n",
    "    print(l_val)\n",
    "    \n",
    "    if not osp.exists(rootpath+'ImageSets/Segmentation'):\n",
    "        os.makedirs(rootpath+'ImageSets/Segmentation')\n",
    "        \n",
    "    with open(rootpath+'ImageSets/Segmentation/train.txt', mode='w') as f:\n",
    "            f.write('\\n'.join(l_train))\n",
    "    with open(rootpath+'ImageSets/Segmentation/val.txt', mode='w') as f:\n",
    "            f.write('\\n'.join(l_val))    \n",
    "\n",
    "image_list(rootpath, 7, 3)"
   ]
  },
  {
   "cell_type": "code",
   "execution_count": 3,
   "metadata": {},
   "outputs": [],
   "source": [
    "from utils.dataloader import make_datapath_list, DataTransform, VOCDataset\n",
    "\n",
    "# ファイルパスリスト作成\n",
    "train_img_list, train_anno_list, val_img_list, val_anno_list = make_datapath_list(\n",
    "    rootpath=rootpath)\n",
    "\n",
    "# Dataset作成\n",
    "# (RGB)の色の平均値と標準偏差\n",
    "color_mean = (0.485, 0.456, 0.406)\n",
    "color_std = (0.229, 0.224, 0.225)\n",
    "\n",
    "train_dataset = VOCDataset(train_img_list, train_anno_list, phase=\"train\", transform=DataTransform(\n",
    "    input_size=475, color_mean=color_mean, color_std=color_std))\n",
    "\n",
    "val_dataset = VOCDataset(val_img_list, val_anno_list, phase=\"val\", transform=DataTransform(\n",
    "    input_size=475, color_mean=color_mean, color_std=color_std))\n",
    "\n",
    "# DataLoader作成\n",
    "batch_size = 8\n",
    "\n",
    "train_dataloader = data.DataLoader(\n",
    "    train_dataset, batch_size=batch_size, shuffle=True)\n",
    "\n",
    "val_dataloader = data.DataLoader(\n",
    "    val_dataset, batch_size=batch_size, shuffle=False)\n",
    "\n",
    "# 辞書型変数にまとめる\n",
    "dataloaders_dict = {\"train\": train_dataloader, \"val\": val_dataloader}\n"
   ]
  },
  {
   "cell_type": "code",
   "execution_count": 4,
   "metadata": {},
   "outputs": [
    {
     "data": {
      "text/plain": [
       "{'train': <torch.utils.data.dataloader.DataLoader at 0x7f2d1c4a6940>,\n",
       " 'val': <torch.utils.data.dataloader.DataLoader at 0x7f2d1c4a66d8>}"
      ]
     },
     "execution_count": 4,
     "metadata": {},
     "output_type": "execute_result"
    }
   ],
   "source": [
    "dataloaders_dict"
   ]
  },
  {
   "cell_type": "code",
   "execution_count": 5,
   "metadata": {},
   "outputs": [],
   "source": [
    "def make_datapath_list(rootpath):\n",
    "    # 画像ファイルとアノテーションファイルへのパスのテンプレートを作成\n",
    "    imgpath_template = osp.join(rootpath, 'JPEGImages', '%s.jpg')\n",
    "    annopath_template = osp.join(rootpath, 'SegmentationClassPNG', '%s.png')\n",
    "\n",
    "    # 訓練と検証、それぞれのファイルのID（ファイル名）を取得する\n",
    "    train_id_names = osp.join(rootpath + 'ImageSets/Segmentation/train.txt')\n",
    "    val_id_names = osp.join(rootpath + 'ImageSets/Segmentation/val.txt')\n",
    "\n",
    "    # 訓練データの画像ファイルとアノテーションファイルへのパスリストを作成\n",
    "    train_img_list = list()\n",
    "    train_anno_list = list()\n",
    "\n",
    "    for line in open(train_id_names):\n",
    "        file_id = line.strip()  # 空白スペースと改行を除去\n",
    "        img_path = (imgpath_template % file_id)  # 画像のパス\n",
    "        anno_path = (annopath_template % file_id)  # アノテーションのパス\n",
    "        train_img_list.append(img_path)\n",
    "        train_anno_list.append(anno_path)\n",
    "\n",
    "    # 検証データの画像ファイルとアノテーションファイルへのパスリストを作成\n",
    "    val_img_list = list()\n",
    "    val_anno_list = list()\n",
    "\n",
    "    for line in open(val_id_names):\n",
    "        file_id = line.strip()  # 空白スペースと改行を除去\n",
    "        img_path = (imgpath_template % file_id)  # 画像のパス\n",
    "        anno_path = (annopath_template % file_id)  # アノテーションのパス\n",
    "        val_img_list.append(img_path)\n",
    "        val_anno_list.append(anno_path)\n",
    "\n",
    "    return train_img_list, train_anno_list, val_img_list, val_anno_list\n"
   ]
  },
  {
   "cell_type": "code",
   "execution_count": null,
   "metadata": {},
   "outputs": [],
   "source": []
  },
  {
   "cell_type": "code",
   "execution_count": 6,
   "metadata": {},
   "outputs": [],
   "source": [
    "from utils.data_augumentation import Compose, Scale, RandomRotation, RandomMirror, Resize, Normalize_Tensor"
   ]
  },
  {
   "cell_type": "code",
   "execution_count": 7,
   "metadata": {},
   "outputs": [],
   "source": [
    "class DataTransform():\n",
    "\n",
    "    def __init__(self, input_size, color_mean, color_std):\n",
    "        self.data_transform = {\n",
    "            'train': Compose([\n",
    "                Scale(scale=[0.5, 1.5]),  # 画像の拡大\n",
    "                RandomRotation(angle=[-10, 10]),  # 回転\n",
    "                RandomMirror(),  # ランダムミラー\n",
    "                Resize(input_size),  # リサイズ(input_size)\n",
    "                Normalize_Tensor(color_mean, color_std)  # 色情報の標準化とテンソル化\n",
    "            ]),\n",
    "            'val': Compose([\n",
    "                Resize(input_size),  # リサイズ(input_size)\n",
    "                Normalize_Tensor(color_mean, color_std)  # 色情報の標準化とテンソル化\n",
    "            ])\n",
    "        }\n",
    "\n",
    "    def __call__(self, phase, img, anno_class_img):\n",
    "        \"\"\"\n",
    "        Parameters\n",
    "        ----------\n",
    "        phase : 'train' or 'val'\n",
    "            前処理のモードを指定。\n",
    "        \"\"\"\n",
    "        return self.data_transform[phase](img, anno_class_img)\n"
   ]
  },
  {
   "cell_type": "code",
   "execution_count": 8,
   "metadata": {},
   "outputs": [],
   "source": [
    "class VOCDataset(data.Dataset):\n",
    "\n",
    "    def __init__(self, img_list, anno_list, phase, transform):\n",
    "        self.img_list = img_list\n",
    "        self.anno_list = anno_list\n",
    "        self.phase = phase\n",
    "        self.transform = transform\n",
    "\n",
    "    def __len__(self):\n",
    "        '''画像の枚数を返す'''\n",
    "        return len(self.img_list)\n",
    "\n",
    "    def __getitem__(self, index):\n",
    "        '''\n",
    "        前処理をした画像のTensor形式のデータとアノテーションを取得\n",
    "        '''\n",
    "        img, anno_class_img = self.pull_item(index)\n",
    "        return img, anno_class_img\n",
    "\n",
    "    def pull_item(self, index):\n",
    "        '''画像のTensor形式のデータ、アノテーションを取得する'''\n",
    "\n",
    "        # 1. 画像読み込み\n",
    "        image_file_path = self.img_list[index]\n",
    "        img = Image.open(image_file_path)   # [高さ][幅][色RGB]\n",
    "\n",
    "        # 2. アノテーション画像読み込み\n",
    "        anno_file_path = self.anno_list[index]\n",
    "        anno_class_img = Image.open(anno_file_path)   # [高さ][幅]\n",
    "\n",
    "        # 3. 前処理を実施\n",
    "        img, anno_class_img = self.transform(self.phase, img, anno_class_img)\n",
    "\n",
    "        return img, anno_class_img"
   ]
  },
  {
   "cell_type": "code",
   "execution_count": 9,
   "metadata": {},
   "outputs": [
    {
     "name": "stdout",
     "output_type": "stream",
     "text": [
      "torch.Size([3, 475, 475])\n",
      "torch.Size([475, 475])\n",
      "(tensor([[[ 0.5878,  0.5878,  0.5878,  ...,  0.4679,  0.4679,  0.4679],\n",
      "         [ 0.5878,  0.5878,  0.5878,  ...,  0.4679,  0.4679,  0.4679],\n",
      "         [ 0.5878,  0.5878,  0.5878,  ...,  0.4851,  0.4851,  0.4851],\n",
      "         ...,\n",
      "         [-1.1589, -1.1589, -1.1589,  ..., -0.3198, -0.3027, -0.3027],\n",
      "         [-1.1589, -1.1589, -1.1589,  ..., -0.3369, -0.3198, -0.3198],\n",
      "         [-1.1589, -1.1589, -1.1589,  ..., -0.3541, -0.3198, -0.3198]],\n",
      "\n",
      "        [[ 0.1352,  0.1352,  0.1352,  ...,  0.0301,  0.0301,  0.0301],\n",
      "         [ 0.1352,  0.1352,  0.1352,  ...,  0.0301,  0.0301,  0.0301],\n",
      "         [ 0.1352,  0.1352,  0.1352,  ...,  0.0476,  0.0476,  0.0476],\n",
      "         ...,\n",
      "         [-0.3550, -0.3550, -0.3550,  ...,  0.3452,  0.3627,  0.3627],\n",
      "         [-0.3550, -0.3550, -0.3550,  ...,  0.3277,  0.3452,  0.3452],\n",
      "         [-0.3550, -0.3550, -0.3550,  ...,  0.3102,  0.3452,  0.3452]],\n",
      "\n",
      "        [[-0.3055, -0.3055, -0.3055,  ..., -0.4973, -0.4973, -0.4973],\n",
      "         [-0.3055, -0.3055, -0.3055,  ..., -0.4973, -0.4973, -0.4973],\n",
      "         [-0.3055, -0.3055, -0.3055,  ..., -0.4798, -0.4798, -0.4798],\n",
      "         ...,\n",
      "         [ 1.1237,  1.1237,  1.1237,  ...,  1.3677,  1.3851,  1.3851],\n",
      "         [ 1.1237,  1.1237,  1.1237,  ...,  1.3502,  1.3677,  1.3677],\n",
      "         [ 1.1237,  1.1237,  1.1237,  ...,  1.3328,  1.3677,  1.3677]]]), tensor([[0, 0, 0,  ..., 0, 0, 0],\n",
      "        [0, 0, 0,  ..., 0, 0, 0],\n",
      "        [0, 0, 0,  ..., 0, 0, 0],\n",
      "        ...,\n",
      "        [1, 1, 1,  ..., 1, 1, 1],\n",
      "        [1, 1, 1,  ..., 1, 1, 1],\n",
      "        [1, 1, 1,  ..., 1, 1, 1]], dtype=torch.uint8))\n"
     ]
    }
   ],
   "source": [
    "# 動作確認\n",
    "\n",
    "# (RGB)の色の平均値と標準偏差\n",
    "color_mean = (0.485, 0.456, 0.406)\n",
    "color_std = (0.229, 0.224, 0.225)\n",
    "\n",
    "# データセット作成\n",
    "train_dataset = VOCDataset(train_img_list, train_anno_list, phase=\"train\", transform=DataTransform(\n",
    "    input_size=475, color_mean=color_mean, color_std=color_std))\n",
    "\n",
    "val_dataset = VOCDataset(val_img_list, val_anno_list, phase=\"val\", transform=DataTransform(\n",
    "    input_size=475, color_mean=color_mean, color_std=color_std))\n",
    "\n",
    "# データの取り出し例\n",
    "print(val_dataset.__getitem__(0)[0].shape)\n",
    "print(val_dataset.__getitem__(0)[1].shape)\n",
    "print(val_dataset.__getitem__(0))\n"
   ]
  },
  {
   "cell_type": "code",
   "execution_count": 10,
   "metadata": {},
   "outputs": [
    {
     "name": "stdout",
     "output_type": "stream",
     "text": [
      "torch.Size([4, 3, 475, 475])\n",
      "torch.Size([4, 475, 475])\n"
     ]
    }
   ],
   "source": [
    "batch_size = 8\n",
    "\n",
    "train_dataloader = data.DataLoader(\n",
    "    train_dataset, batch_size=batch_size, shuffle=True)\n",
    "\n",
    "val_dataloader = data.DataLoader(\n",
    "    val_dataset, batch_size=batch_size, shuffle=False)\n",
    "\n",
    "# 辞書オブジェクトにまとめる\n",
    "dataloaders_dict = {\"train\": train_dataloader, \"val\": val_dataloader}\n",
    "\n",
    "# 動作の確認\n",
    "batch_iterator = iter(dataloaders_dict[\"val\"])  # イタレータに変換\n",
    "imges, anno_class_imges = next(batch_iterator)  # 1番目の要素を取り出す\n",
    "print(imges.size())  # torch.Size([8, 3, 475, 475])\n",
    "print(anno_class_imges.size())  # torch.Size([8, 3, 475, 475])"
   ]
  },
  {
   "cell_type": "code",
   "execution_count": 11,
   "metadata": {},
   "outputs": [],
   "source": [
    "import numpy as np\n",
    "import matplotlib.pyplot as plt\n",
    "%matplotlib inline"
   ]
  },
  {
   "cell_type": "code",
   "execution_count": 12,
   "metadata": {},
   "outputs": [
    {
     "name": "stderr",
     "output_type": "stream",
     "text": [
      "Clipping input data to the valid range for imshow with RGB data ([0..1] for floats or [0..255] for integers).\n"
     ]
    },
    {
     "data": {
      "image/png": "[encoded data removed]",
      "text/plain": [
       "<Figure size 432x288 with 1 Axes>"
      ]
     },
     "metadata": {
      "needs_background": "light"
     },
     "output_type": "display_data"
    },
    {
     "data": {
      "image/png": "[encoded data removed]",
      "text/plain": [
       "<Figure size 432x288 with 1 Axes>"
      ]
     },
     "metadata": {
      "needs_background": "light"
     },
     "output_type": "display_data"
    }
   ],
   "source": [
    "# 実行するたびに変わります\n",
    "\n",
    "# 画像データの読み込み\n",
    "index = 0\n",
    "imges, anno_class_imges = train_dataset.__getitem__(index)\n",
    "\n",
    "# 画像の表示\n",
    "img_val = imges\n",
    "img_val = img_val.numpy().transpose((1, 2, 0))\n",
    "plt.imshow(img_val)\n",
    "plt.show()\n",
    "\n",
    "# アノテーション画像の表示\n",
    "anno_file_path = train_anno_list[0]\n",
    "anno_class_img = Image.open(anno_file_path)   # [高さ][幅][色RGB]\n",
    "p_palette = anno_class_img.getpalette()\n",
    "\n",
    "anno_class_img_val = anno_class_imges.numpy()\n",
    "anno_class_img_val = Image.fromarray(np.uint8(anno_class_img_val), mode=\"P\")\n",
    "anno_class_img_val.putpalette(p_palette)\n",
    "plt.imshow(anno_class_img_val)\n",
    "plt.show()"
   ]
  },
  {
   "cell_type": "code",
   "execution_count": 13,
   "metadata": {},
   "outputs": [
    {
     "name": "stderr",
     "output_type": "stream",
     "text": [
      "Clipping input data to the valid range for imshow with RGB data ([0..1] for floats or [0..255] for integers).\n"
     ]
    },
    {
     "data": {
      "image/png": "[encoded data removed]",
      "text/plain": [
       "<Figure size 432x288 with 1 Axes>"
      ]
     },
     "metadata": {
      "needs_background": "light"
     },
     "output_type": "display_data"
    },
    {
     "data": {
      "image/png": "[encoded data removed]",
      "text/plain": [
       "<Figure size 432x288 with 1 Axes>"
      ]
     },
     "metadata": {
      "needs_background": "light"
     },
     "output_type": "display_data"
    }
   ],
   "source": [
    "# 画像データの読み込み\n",
    "index = 0\n",
    "imges, anno_class_imges = val_dataset.__getitem__(index)\n",
    "\n",
    "# 画像の表示\n",
    "img_val = imges\n",
    "img_val = img_val.numpy().transpose((1, 2, 0))\n",
    "plt.imshow(img_val)\n",
    "plt.show()\n",
    "\n",
    "# アノテーション画像の表示\n",
    "anno_file_path = train_anno_list[0]\n",
    "anno_class_img = Image.open(anno_file_path)   # [高さ][幅][色RGB]\n",
    "p_palette = anno_class_img.getpalette()\n",
    "\n",
    "anno_class_img_val = anno_class_imges.numpy()\n",
    "anno_class_img_val = Image.fromarray(np.uint8(anno_class_img_val), mode=\"P\")\n",
    "anno_class_img_val.putpalette(p_palette)\n",
    "plt.imshow(anno_class_img_val)\n",
    "plt.show()\n"
   ]
  },
  {
   "cell_type": "markdown",
   "metadata": {},
   "source": [
    "PSP"
   ]
  },
  {
   "cell_type": "code",
   "execution_count": 14,
   "metadata": {},
   "outputs": [],
   "source": [
    "class PSPNet(nn.Module):\n",
    "    \n",
    "    def __init__(self, n_classes):\n",
    "        super(PSPNet, self).__init__()\n",
    "        \n",
    "        # パラメータ設定\n",
    "        block_config = [3, 4, 6, 3]  # resnet50\n",
    "        img_size = 475\n",
    "        img_size_8 = 60  # img_sizeの1/8に\n",
    "        \n",
    "        # 4つのモジュールを構成するサブネットワークの用意\n",
    "        self.feature_conv = FeatureMap_convolution()\n",
    "        self.feature_res_1 = ResidualBlockPSP(\n",
    "            n_blocks=block_config[0], in_channels=128, mid_channels=64, out_channels=256, stride=1, dilation=1)\n",
    "        self.feature_res_2 = ResidualBlockPSP(\n",
    "            n_blocks=block_config[1], in_channels=256, mid_channels=128, out_channels=512, stride=2, dilation=1)\n",
    "        self.feature_dilated_res_1 = ResidualBlockPSP(\n",
    "            n_blocks=block_config[2], in_channels=512, mid_channels=256, out_channels=1024, stride=1, dilation=2)\n",
    "        self.feature_dilated_res_2 = ResidualBlockPSP(\n",
    "            n_blocks=block_config[3], in_channels=1024, mid_channels=512, out_channels=2048, stride=1, dilation=4)\n",
    "\n",
    "        self.pyramid_pooling = PyramidPooling(in_channels=2048, pool_sizes=[\n",
    "            6, 3, 2, 1], height=img_size_8, width=img_size_8)\n",
    "\n",
    "        self.decode_feature = DecodePSPFeature(\n",
    "            height=img_size, width=img_size, n_classes=n_classes)\n",
    "\n",
    "        self.aux = AuxiliaryPSPlayers(\n",
    "            in_channels=1024, height=img_size, width=img_size, n_classes=n_classes)\n",
    "\n",
    "    def forward(self, x):\n",
    "        x = self.feature_conv(x)\n",
    "        x = self.feature_res_1(x)\n",
    "        x = self.feature_res_2(x)\n",
    "        x = self.feature_dilated_res_1(x)\n",
    "\n",
    "        output_aux = self.aux(x)  # Featureモジュールの途中をAuxモジュールへ\n",
    "\n",
    "        x = self.feature_dilated_res_2(x)\n",
    "\n",
    "        x = self.pyramid_pooling(x)\n",
    "        output = self.decode_feature(x)\n",
    "\n",
    "        return (output, output_aux)\n"
   ]
  },
  {
   "cell_type": "code",
   "execution_count": 15,
   "metadata": {},
   "outputs": [],
   "source": [
    "class FeatureMap_convolution(nn.Module):\n",
    "    def __init__(self):\n",
    "        '''構成するネットワークを用意'''\n",
    "        super(FeatureMap_convolution, self).__init__()\n",
    "\n",
    "        # 畳み込み層1\n",
    "        in_channels, out_channels, kernel_size, stride, padding, dilation, bias = 3, 64, 3, 2, 1, 1, False\n",
    "        self.cbnr_1 = conv2DBatchNormRelu(\n",
    "            in_channels, out_channels, kernel_size, stride, padding, dilation, bias)\n",
    "\n",
    "        # 畳み込み層2\n",
    "        in_channels, out_channels, kernel_size, stride, padding, dilation, bias = 64, 64, 3, 1, 1, 1, False\n",
    "        self.cbnr_2 = conv2DBatchNormRelu(\n",
    "            in_channels, out_channels, kernel_size, stride, padding, dilation, bias)\n",
    "\n",
    "        # 畳み込み層3\n",
    "        in_channels, out_channels, kernel_size, stride, padding, dilation, bias = 64, 128, 3, 1, 1, 1, False\n",
    "        self.cbnr_3 = conv2DBatchNormRelu(\n",
    "            in_channels, out_channels, kernel_size, stride, padding, dilation, bias)\n",
    "\n",
    "        # MaxPooling層\n",
    "        self.maxpool = nn.MaxPool2d(kernel_size=3, stride=2, padding=1)\n",
    "\n",
    "    def forward(self, x):\n",
    "        x = self.cbnr_1(x)\n",
    "        x = self.cbnr_2(x)\n",
    "        x = self.cbnr_3(x)\n",
    "        outputs = self.maxpool(x)\n",
    "        return outputs\n"
   ]
  },
  {
   "cell_type": "code",
   "execution_count": 16,
   "metadata": {},
   "outputs": [],
   "source": [
    "class ResidualBlockPSP(nn.Sequential):\n",
    "    def __init__(self, n_blocks, in_channels, mid_channels, out_channels, stride, dilation):\n",
    "        super(ResidualBlockPSP, self).__init__()\n",
    "\n",
    "        # bottleNeckPSPの用意\n",
    "        self.add_module(\n",
    "            \"block1\",\n",
    "            bottleNeckPSP(in_channels, mid_channels,\n",
    "                          out_channels, stride, dilation)\n",
    "        )\n",
    "\n",
    "        # bottleNeckIdentifyPSPの繰り返しの用意\n",
    "        for i in range(n_blocks - 1):\n",
    "            self.add_module(\n",
    "                \"block\" + str(i+2),\n",
    "                bottleNeckIdentifyPSP(\n",
    "                    out_channels, mid_channels, stride, dilation)\n",
    "            )\n"
   ]
  },
  {
   "cell_type": "code",
   "execution_count": 17,
   "metadata": {},
   "outputs": [],
   "source": [
    "class conv2DBatchNormRelu(nn.Module):\n",
    "    def __init__(self, in_channels, out_channels, kernel_size, stride, padding, dilation, bias):\n",
    "        super(conv2DBatchNormRelu, self).__init__()\n",
    "        self.conv = nn.Conv2d(in_channels, out_channels,\n",
    "                              kernel_size, stride, padding, dilation, bias=bias)\n",
    "        self.batchnorm = nn.BatchNorm2d(out_channels)\n",
    "        self.relu = nn.ReLU(inplace=True)\n",
    "        # inplase設定で入力を保存せずに出力を計算し、メモリ削減する\n",
    "\n",
    "    def forward(self, x):\n",
    "        x = self.conv(x)\n",
    "        x = self.batchnorm(x)\n",
    "        outputs = self.relu(x)\n",
    "\n",
    "        return outputs"
   ]
  },
  {
   "cell_type": "code",
   "execution_count": 18,
   "metadata": {},
   "outputs": [],
   "source": [
    "class bottleNeckPSP(nn.Module):\n",
    "    def __init__(self, in_channels, mid_channels, out_channels, stride, dilation):\n",
    "        super(bottleNeckPSP, self).__init__()\n",
    "\n",
    "        self.cbr_1 = conv2DBatchNormRelu(\n",
    "            in_channels, mid_channels, kernel_size=1, stride=1, padding=0, dilation=1, bias=False)\n",
    "        self.cbr_2 = conv2DBatchNormRelu(\n",
    "            mid_channels, mid_channels, kernel_size=3, stride=stride, padding=dilation, dilation=dilation, bias=False)\n",
    "        self.cb_3 = conv2DBatchNorm(\n",
    "            mid_channels, out_channels, kernel_size=1, stride=1, padding=0, dilation=1, bias=False)\n",
    "\n",
    "        # スキップ結合\n",
    "        self.cb_residual = conv2DBatchNorm(\n",
    "            in_channels, out_channels, kernel_size=1, stride=stride, padding=0, dilation=1, bias=False)\n",
    "\n",
    "        self.relu = nn.ReLU(inplace=True)\n",
    "\n",
    "    def forward(self, x):\n",
    "        conv = self.cb_3(self.cbr_2(self.cbr_1(x)))\n",
    "        residual = self.cb_residual(x)\n",
    "        return self.relu(conv + residual)"
   ]
  },
  {
   "cell_type": "code",
   "execution_count": 19,
   "metadata": {},
   "outputs": [],
   "source": [
    "class conv2DBatchNorm(nn.Module):\n",
    "    def __init__(self, in_channels, out_channels, kernel_size, stride, padding, dilation, bias):\n",
    "        super(conv2DBatchNorm, self).__init__()\n",
    "        self.conv = nn.Conv2d(in_channels, out_channels,\n",
    "                              kernel_size, stride, padding, dilation, bias=bias)\n",
    "        self.batchnorm = nn.BatchNorm2d(out_channels)\n",
    "\n",
    "    def forward(self, x):\n",
    "        x = self.conv(x)\n",
    "        outputs = self.batchnorm(x)\n",
    "\n",
    "        return outputs"
   ]
  },
  {
   "cell_type": "code",
   "execution_count": 20,
   "metadata": {},
   "outputs": [],
   "source": [
    "class bottleNeckIdentifyPSP(nn.Module):\n",
    "    def __init__(self, in_channels, mid_channels, stride, dilation):\n",
    "        super(bottleNeckIdentifyPSP, self).__init__()\n",
    "\n",
    "        self.cbr_1 = conv2DBatchNormRelu(\n",
    "            in_channels, mid_channels, kernel_size=1, stride=1, padding=0, dilation=1, bias=False)\n",
    "        self.cbr_2 = conv2DBatchNormRelu(\n",
    "            mid_channels, mid_channels, kernel_size=3, stride=1, padding=dilation, dilation=dilation, bias=False)\n",
    "        self.cb_3 = conv2DBatchNorm(\n",
    "            mid_channels, in_channels, kernel_size=1, stride=1, padding=0, dilation=1, bias=False)\n",
    "        self.relu = nn.ReLU(inplace=True)\n",
    "\n",
    "    def forward(self, x):\n",
    "        conv = self.cb_3(self.cbr_2(self.cbr_1(x)))\n",
    "        residual = x\n",
    "        return self.relu(conv + residual)"
   ]
  },
  {
   "cell_type": "markdown",
   "metadata": {},
   "source": [
    "Pyramid Polling"
   ]
  },
  {
   "cell_type": "code",
   "execution_count": 21,
   "metadata": {},
   "outputs": [],
   "source": [
    "class PyramidPooling(nn.Module):\n",
    "    def __init__(self, in_channels, pool_sizes, height, width):\n",
    "        super(PyramidPooling, self).__init__()\n",
    "\n",
    "        # forwardで使用する画像サイズ\n",
    "        self.height = height\n",
    "        self.width = width\n",
    "\n",
    "        # 各畳み込み層の出力チャネル数\n",
    "        out_channels = int(in_channels / len(pool_sizes))\n",
    "\n",
    "        # 各畳み込み層を作成\n",
    "        # この実装方法は愚直すぎてfor文で書きたいところですが、分かりやすさを優先しています\n",
    "        # pool_sizes: [6, 3, 2, 1]\n",
    "        self.avpool_1 = nn.AdaptiveAvgPool2d(output_size=pool_sizes[0])\n",
    "        self.cbr_1 = conv2DBatchNormRelu(\n",
    "            in_channels, out_channels, kernel_size=1, stride=1, padding=0, dilation=1, bias=False)\n",
    "\n",
    "        self.avpool_2 = nn.AdaptiveAvgPool2d(output_size=pool_sizes[1])\n",
    "        self.cbr_2 = conv2DBatchNormRelu(\n",
    "            in_channels, out_channels, kernel_size=1, stride=1, padding=0, dilation=1, bias=False)\n",
    "\n",
    "        self.avpool_3 = nn.AdaptiveAvgPool2d(output_size=pool_sizes[2])\n",
    "        self.cbr_3 = conv2DBatchNormRelu(\n",
    "            in_channels, out_channels, kernel_size=1, stride=1, padding=0, dilation=1, bias=False)\n",
    "\n",
    "        self.avpool_4 = nn.AdaptiveAvgPool2d(output_size=pool_sizes[3])\n",
    "        self.cbr_4 = conv2DBatchNormRelu(\n",
    "            in_channels, out_channels, kernel_size=1, stride=1, padding=0, dilation=1, bias=False)\n",
    "\n",
    "    def forward(self, x):\n",
    "\n",
    "        out1 = self.cbr_1(self.avpool_1(x))\n",
    "        out1 = F.interpolate(out1, size=(\n",
    "            self.height, self.width), mode=\"bilinear\", align_corners=True)\n",
    "\n",
    "        out2 = self.cbr_2(self.avpool_2(x))\n",
    "        out2 = F.interpolate(out2, size=(\n",
    "            self.height, self.width), mode=\"bilinear\", align_corners=True)\n",
    "\n",
    "        out3 = self.cbr_3(self.avpool_3(x))\n",
    "        out3 = F.interpolate(out3, size=(\n",
    "            self.height, self.width), mode=\"bilinear\", align_corners=True)\n",
    "\n",
    "        out4 = self.cbr_4(self.avpool_4(x))\n",
    "        out4 = F.interpolate(out4, size=(\n",
    "            self.height, self.width), mode=\"bilinear\", align_corners=True)\n",
    "\n",
    "        # 最終的に結合させる、dim=1でチャネル数の次元で結合\n",
    "        output = torch.cat([x, out1, out2, out3, out4], dim=1)\n",
    "\n",
    "        return output"
   ]
  },
  {
   "cell_type": "markdown",
   "metadata": {},
   "source": [
    "Decoder, AuxLoss"
   ]
  },
  {
   "cell_type": "code",
   "execution_count": 22,
   "metadata": {},
   "outputs": [],
   "source": [
    "class DecodePSPFeature(nn.Module):\n",
    "    def __init__(self, height, width, n_classes):\n",
    "        super(DecodePSPFeature, self).__init__()\n",
    "\n",
    "        # forwardで使用する画像サイズ\n",
    "        self.height = height\n",
    "        self.width = width\n",
    "\n",
    "        self.cbr = conv2DBatchNormRelu(\n",
    "            in_channels=4096, out_channels=512, kernel_size=3, stride=1, padding=1, dilation=1, bias=False)\n",
    "        self.dropout = nn.Dropout2d(p=0.1)\n",
    "        self.classification = nn.Conv2d(\n",
    "            in_channels=512, out_channels=n_classes, kernel_size=1, stride=1, padding=0)\n",
    "\n",
    "    def forward(self, x):\n",
    "        x = self.cbr(x)\n",
    "        x = self.dropout(x)\n",
    "        x = self.classification(x)\n",
    "        output = F.interpolate(\n",
    "            x, size=(self.height, self.width), mode=\"bilinear\", align_corners=True)\n",
    "\n",
    "        return output\n"
   ]
  },
  {
   "cell_type": "code",
   "execution_count": 23,
   "metadata": {},
   "outputs": [],
   "source": [
    "class AuxiliaryPSPlayers(nn.Module):\n",
    "    def __init__(self, in_channels, height, width, n_classes):\n",
    "        super(AuxiliaryPSPlayers, self).__init__()\n",
    "\n",
    "        # forwardで使用する画像サイズ\n",
    "        self.height = height\n",
    "        self.width = width\n",
    "\n",
    "        self.cbr = conv2DBatchNormRelu(\n",
    "            in_channels=in_channels, out_channels=256, kernel_size=3, stride=1, padding=1, dilation=1, bias=False)\n",
    "        self.dropout = nn.Dropout2d(p=0.1)\n",
    "        self.classification = nn.Conv2d(\n",
    "            in_channels=256, out_channels=n_classes, kernel_size=1, stride=1, padding=0)\n",
    "\n",
    "    def forward(self, x):\n",
    "        x = self.cbr(x)\n",
    "        x = self.dropout(x)\n",
    "        x = self.classification(x)\n",
    "        output = F.interpolate(\n",
    "            x, size=(self.height, self.width), mode=\"bilinear\", align_corners=True)\n",
    "\n",
    "        return output"
   ]
  },
  {
   "cell_type": "code",
   "execution_count": 25,
   "metadata": {},
   "outputs": [
    {
     "ename": "RuntimeError",
     "evalue": "Error(s) in loading state_dict for PSPNet:\n\tMissing key(s) in state_dict: \"feature_conv.cbnr_1.conv.weight\", \"feature_conv.cbnr_1.batchnorm.weight\", \"feature_conv.cbnr_1.batchnorm.bias\", \"feature_conv.cbnr_1.batchnorm.running_mean\", \"feature_conv.cbnr_1.batchnorm.running_var\", \"feature_conv.cbnr_2.conv.weight\", \"feature_conv.cbnr_2.batchnorm.weight\", \"feature_conv.cbnr_2.batchnorm.bias\", \"feature_conv.cbnr_2.batchnorm.running_mean\", \"feature_conv.cbnr_2.batchnorm.running_var\", \"feature_conv.cbnr_3.conv.weight\", \"feature_conv.cbnr_3.batchnorm.weight\", \"feature_conv.cbnr_3.batchnorm.bias\", \"feature_conv.cbnr_3.batchnorm.running_mean\", \"feature_conv.cbnr_3.batchnorm.running_var\", \"feature_res_1.block1.cbr_1.conv.weight\", \"feature_res_1.block1.cbr_1.batchnorm.weight\", \"feature_res_1.block1.cbr_1.batchnorm.bias\", \"feature_res_1.block1.cbr_1.batchnorm.running_mean\", \"feature_res_1.block1.cbr_1.batchnorm.running_var\", \"feature_res_1.block1.cbr_2.conv.weight\", \"feature_res_1.block1.cbr_2.batchnorm.weight\", \"feature_res_1.block1.cbr_2.batchnorm.bias\", \"feature_res_1.block1.cbr_2.batchnorm.running_mean\", \"feature_res_1.block1.cbr_2.batchnorm.running_var\", \"feature_res_1.block1.cb_3.conv.weight\", \"feature_res_1.block1.cb_3.batchnorm.weight\", \"feature_res_1.block1.cb_3.batchnorm.bias\", \"feature_res_1.block1.cb_3.batchnorm.running_mean\", \"feature_res_1.block1.cb_3.batchnorm.running_var\", \"feature_res_1.block1.cb_residual.conv.weight\", \"feature_res_1.block1.cb_residual.batchnorm.weight\", \"feature_res_1.block1.cb_residual.batchnorm.bias\", \"feature_res_1.block1.cb_residual.batchnorm.running_mean\", \"feature_res_1.block1.cb_residual.batchnorm.running_var\", \"feature_res_1.block2.cbr_1.conv.weight\", \"feature_res_1.block2.cbr_1.batchnorm.weight\", \"feature_res_1.block2.cbr_1.batchnorm.bias\", \"feature_res_1.block2.cbr_1.batchnorm.running_mean\", \"feature_res_1.block2.cbr_1.batchnorm.running_var\", \"feature_res_1.block2.cbr_2.conv.weight\", \"feature_res_1.block2.cbr_2.batchnorm.weight\", \"feature_res_1.block2.cbr_2.batchnorm.bias\", \"feature_res_1.block2.cbr_2.batchnorm.running_mean\", \"feature_res_1.block2.cbr_2.batchnorm.running_var\", \"feature_res_1.block2.cb_3.conv.weight\", \"feature_res_1.block2.cb_3.batchnorm.weight\", \"feature_res_1.block2.cb_3.batchnorm.bias\", \"feature_res_1.block2.cb_3.batchnorm.running_mean\", \"feature_res_1.block2.cb_3.batchnorm.running_var\", \"feature_res_1.block3.cbr_1.conv.weight\", \"feature_res_1.block3.cbr_1.batchnorm.weight\", \"feature_res_1.block3.cbr_1.batchnorm.bias\", \"feature_res_1.block3.cbr_1.batchnorm.running_mean\", \"feature_res_1.block3.cbr_1.batchnorm.running_var\", \"feature_res_1.block3.cbr_2.conv.weight\", \"feature_res_1.block3.cbr_2.batchnorm.weight\", \"feature_res_1.block3.cbr_2.batchnorm.bias\", \"feature_res_1.block3.cbr_2.batchnorm.running_mean\", \"feature_res_1.block3.cbr_2.batchnorm.running_var\", \"feature_res_1.block3.cb_3.conv.weight\", \"feature_res_1.block3.cb_3.batchnorm.weight\", \"feature_res_1.block3.cb_3.batchnorm.bias\", \"feature_res_1.block3.cb_3.batchnorm.running_mean\", \"feature_res_1.block3.cb_3.batchnorm.running_var\", \"feature_res_2.block1.cbr_1.conv.weight\", \"feature_res_2.block1.cbr_1.batchnorm.weight\", \"feature_res_2.block1.cbr_1.batchnorm.bias\", \"feature_res_2.block1.cbr_1.batchnorm.running_mean\", \"feature_res_2.block1.cbr_1.batchnorm.running_var\", \"feature_res_2.block1.cbr_2.conv.weight\", \"feature_res_2.block1.cbr_2.batchnorm.weight\", \"feature_res_2.block1.cbr_2.batchnorm.bias\", \"feature_res_2.block1.cbr_2.batchnorm.running_mean\", \"feature_res_2.block1.cbr_2.batchnorm.running_var\", \"feature_res_2.block1.cb_3.conv.weight\", \"feature_res_2.block1.cb_3.batchnorm.weight\", \"feature_res_2.block1.cb_3.batchnorm.bias\", \"feature_res_2.block1.cb_3.batchnorm.running_mean\", \"feature_res_2.block1.cb_3.batchnorm.running_var\", \"feature_res_2.block1.cb_residual.conv.weight\", \"feature_res_2.block1.cb_residual.batchnorm.weight\", \"feature_res_2.block1.cb_residual.batchnorm.bias\", \"feature_res_2.block1.cb_residual.batchnorm.running_mean\", \"feature_res_2.block1.cb_residual.batchnorm.running_var\", \"feature_res_2.block2.cbr_1.conv.weight\", \"feature_res_2.block2.cbr_1.batchnorm.weight\", \"feature_res_2.block2.cbr_1.batchnorm.bias\", \"feature_res_2.block2.cbr_1.batchnorm.running_mean\", \"feature_res_2.block2.cbr_1.batchnorm.running_var\", \"feature_res_2.block2.cbr_2.conv.weight\", \"feature_res_2.block2.cbr_2.batchnorm.weight\", \"feature_res_2.block2.cbr_2.batchnorm.bias\", \"feature_res_2.block2.cbr_2.batchnorm.running_mean\", \"feature_res_2.block2.cbr_2.batchnorm.running_var\", \"feature_res_2.block2.cb_3.conv.weight\", \"feature_res_2.block2.cb_3.batchnorm.weight\", \"feature_res_2.block2.cb_3.batchnorm.bias\", \"feature_res_2.block2.cb_3.batchnorm.running_mean\", \"feature_res_2.block2.cb_3.batchnorm.running_var\", \"feature_res_2.block3.cbr_1.conv.weight\", \"feature_res_2.block3.cbr_1.batchnorm.weight\", \"feature_res_2.block3.cbr_1.batchnorm.bias\", \"feature_res_2.block3.cbr_1.batchnorm.running_mean\", \"feature_res_2.block3.cbr_1.batchnorm.running_var\", \"feature_res_2.block3.cbr_2.conv.weight\", \"feature_res_2.block3.cbr_2.batchnorm.weight\", \"feature_res_2.block3.cbr_2.batchnorm.bias\", \"feature_res_2.block3.cbr_2.batchnorm.running_mean\", \"feature_res_2.block3.cbr_2.batchnorm.running_var\", \"feature_res_2.block3.cb_3.conv.weight\", \"feature_res_2.block3.cb_3.batchnorm.weight\", \"feature_res_2.block3.cb_3.batchnorm.bias\", \"feature_res_2.block3.cb_3.batchnorm.running_mean\", \"feature_res_2.block3.cb_3.batchnorm.running_var\", \"feature_res_2.block4.cbr_1.conv.weight\", \"feature_res_2.block4.cbr_1.batchnorm.weight\", \"feature_res_2.block4.cbr_1.batchnorm.bias\", \"feature_res_2.block4.cbr_1.batchnorm.running_mean\", \"feature_res_2.block4.cbr_1.batchnorm.running_var\", \"feature_res_2.block4.cbr_2.conv.weight\", \"feature_res_2.block4.cbr_2.batchnorm.weight\", \"feature_res_2.block4.cbr_2.batchnorm.bias\", \"feature_res_2.block4.cbr_2.batchnorm.running_mean\", \"feature_res_2.block4.cbr_2.batchnorm.running_var\", \"feature_res_2.block4.cb_3.conv.weight\", \"feature_res_2.block4.cb_3.batchnorm.weight\", \"feature_res_2.block4.cb_3.batchnorm.bias\", \"feature_res_2.block4.cb_3.batchnorm.running_mean\", \"feature_res_2.block4.cb_3.batchnorm.running_var\", \"feature_dilated_res_1.block1.cbr_1.conv.weight\", \"feature_dilated_res_1.block1.cbr_1.batchnorm.weight\", \"feature_dilated_res_1.block1.cbr_1.batchnorm.bias\", \"feature_dilated_res_1.block1.cbr_1.batchnorm.running_mean\", \"feature_dilated_res_1.block1.cbr_1.batchnorm.running_var\", \"feature_dilated_res_1.block1.cbr_2.conv.weight\", \"feature_dilated_res_1.block1.cbr_2.batchnorm.weight\", \"feature_dilated_res_1.block1.cbr_2.batchnorm.bias\", \"feature_dilated_res_1.block1.cbr_2.batchnorm.running_mean\", \"feature_dilated_res_1.block1.cbr_2.batchnorm.running_var\", \"feature_dilated_res_1.block1.cb_3.conv.weight\", \"feature_dilated_res_1.block1.cb_3.batchnorm.weight\", \"feature_dilated_res_1.block1.cb_3.batchnorm.bias\", \"feature_dilated_res_1.block1.cb_3.batchnorm.running_mean\", \"feature_dilated_res_1.block1.cb_3.batchnorm.running_var\", \"feature_dilated_res_1.block1.cb_residual.conv.weight\", \"feature_dilated_res_1.block1.cb_residual.batchnorm.weight\", \"feature_dilated_res_1.block1.cb_residual.batchnorm.bias\", \"feature_dilated_res_1.block1.cb_residual.batchnorm.running_mean\", \"feature_dilated_res_1.block1.cb_residual.batchnorm.running_var\", \"feature_dilated_res_1.block2.cbr_1.conv.weight\", \"feature_dilated_res_1.block2.cbr_1.batchnorm.weight\", \"feature_dilated_res_1.block2.cbr_1.batchnorm.bias\", \"feature_dilated_res_1.block2.cbr_1.batchnorm.running_mean\", \"feature_dilated_res_1.block2.cbr_1.batchnorm.running_var\", \"feature_dilated_res_1.block2.cbr_2.conv.weight\", \"feature_dilated_res_1.block2.cbr_2.batchnorm.weight\", \"feature_dilated_res_1.block2.cbr_2.batchnorm.bias\", \"feature_dilated_res_1.block2.cbr_2.batchnorm.running_mean\", \"feature_dilated_res_1.block2.cbr_2.batchnorm.running_var\", \"feature_dilated_res_1.block2.cb_3.conv.weight\", \"feature_dilated_res_1.block2.cb_3.batchnorm.weight\", \"feature_dilated_res_1.block2.cb_3.batchnorm.bias\", \"feature_dilated_res_1.block2.cb_3.batchnorm.running_mean\", \"feature_dilated_res_1.block2.cb_3.batchnorm.running_var\", \"feature_dilated_res_1.block3.cbr_1.conv.weight\", \"feature_dilated_res_1.block3.cbr_1.batchnorm.weight\", \"feature_dilated_res_1.block3.cbr_1.batchnorm.bias\", \"feature_dilated_res_1.block3.cbr_1.batchnorm.running_mean\", \"feature_dilated_res_1.block3.cbr_1.batchnorm.running_var\", \"feature_dilated_res_1.block3.cbr_2.conv.weight\", \"feature_dilated_res_1.block3.cbr_2.batchnorm.weight\", \"feature_dilated_res_1.block3.cbr_2.batchnorm.bias\", \"feature_dilated_res_1.block3.cbr_2.batchnorm.running_mean\", \"feature_dilated_res_1.block3.cbr_2.batchnorm.running_var\", \"feature_dilated_res_1.block3.cb_3.conv.weight\", \"feature_dilated_res_1.block3.cb_3.batchnorm.weight\", \"feature_dilated_res_1.block3.cb_3.batchnorm.bias\", \"feature_dilated_res_1.block3.cb_3.batchnorm.running_mean\", \"feature_dilated_res_1.block3.cb_3.batchnorm.running_var\", \"feature_dilated_res_1.block4.cbr_1.conv.weight\", \"feature_dilated_res_1.block4.cbr_1.batchnorm.weight\", \"feature_dilated_res_1.block4.cbr_1.batchnorm.bias\", \"feature_dilated_res_1.block4.cbr_1.batchnorm.running_mean\", \"feature_dilated_res_1.block4.cbr_1.batchnorm.running_var\", \"feature_dilated_res_1.block4.cbr_2.conv.weight\", \"feature_dilated_res_1.block4.cbr_2.batchnorm.weight\", \"feature_dilated_res_1.block4.cbr_2.batchnorm.bias\", \"feature_dilated_res_1.block4.cbr_2.batchnorm.running_mean\", \"feature_dilated_res_1.block4.cbr_2.batchnorm.running_var\", \"feature_dilated_res_1.block4.cb_3.conv.weight\", \"feature_dilated_res_1.block4.cb_3.batchnorm.weight\", \"feature_dilated_res_1.block4.cb_3.batchnorm.bias\", \"feature_dilated_res_1.block4.cb_3.batchnorm.running_mean\", \"feature_dilated_res_1.block4.cb_3.batchnorm.running_var\", \"feature_dilated_res_1.block5.cbr_1.conv.weight\", \"feature_dilated_res_1.block5.cbr_1.batchnorm.weight\", \"feature_dilated_res_1.block5.cbr_1.batchnorm.bias\", \"feature_dilated_res_1.block5.cbr_1.batchnorm.running_mean\", \"feature_dilated_res_1.block5.cbr_1.batchnorm.running_var\", \"feature_dilated_res_1.block5.cbr_2.conv.weight\", \"feature_dilated_res_1.block5.cbr_2.batchnorm.weight\", \"feature_dilated_res_1.block5.cbr_2.batchnorm.bias\", \"feature_dilated_res_1.block5.cbr_2.batchnorm.running_mean\", \"feature_dilated_res_1.block5.cbr_2.batchnorm.running_var\", \"feature_dilated_res_1.block5.cb_3.conv.weight\", \"feature_dilated_res_1.block5.cb_3.batchnorm.weight\", \"feature_dilated_res_1.block5.cb_3.batchnorm.bias\", \"feature_dilated_res_1.block5.cb_3.batchnorm.running_mean\", \"feature_dilated_res_1.block5.cb_3.batchnorm.running_var\", \"feature_dilated_res_1.block6.cbr_1.conv.weight\", \"feature_dilated_res_1.block6.cbr_1.batchnorm.weight\", \"feature_dilated_res_1.block6.cbr_1.batchnorm.bias\", \"feature_dilated_res_1.block6.cbr_1.batchnorm.running_mean\", \"feature_dilated_res_1.block6.cbr_1.batchnorm.running_var\", \"feature_dilated_res_1.block6.cbr_2.conv.weight\", \"feature_dilated_res_1.block6.cbr_2.batchnorm.weight\", \"feature_dilated_res_1.block6.cbr_2.batchnorm.bias\", \"feature_dilated_res_1.block6.cbr_2.batchnorm.running_mean\", \"feature_dilated_res_1.block6.cbr_2.batchnorm.running_var\", \"feature_dilated_res_1.block6.cb_3.conv.weight\", \"feature_dilated_res_1.block6.cb_3.batchnorm.weight\", \"feature_dilated_res_1.block6.cb_3.batchnorm.bias\", \"feature_dilated_res_1.block6.cb_3.batchnorm.running_mean\", \"feature_dilated_res_1.block6.cb_3.batchnorm.running_var\", \"feature_dilated_res_2.block1.cbr_1.conv.weight\", \"feature_dilated_res_2.block1.cbr_1.batchnorm.weight\", \"feature_dilated_res_2.block1.cbr_1.batchnorm.bias\", \"feature_dilated_res_2.block1.cbr_1.batchnorm.running_mean\", \"feature_dilated_res_2.block1.cbr_1.batchnorm.running_var\", \"feature_dilated_res_2.block1.cbr_2.conv.weight\", \"feature_dilated_res_2.block1.cbr_2.batchnorm.weight\", \"feature_dilated_res_2.block1.cbr_2.batchnorm.bias\", \"feature_dilated_res_2.block1.cbr_2.batchnorm.running_mean\", \"feature_dilated_res_2.block1.cbr_2.batchnorm.running_var\", \"feature_dilated_res_2.block1.cb_3.conv.weight\", \"feature_dilated_res_2.block1.cb_3.batchnorm.weight\", \"feature_dilated_res_2.block1.cb_3.batchnorm.bias\", \"feature_dilated_res_2.block1.cb_3.batchnorm.running_mean\", \"feature_dilated_res_2.block1.cb_3.batchnorm.running_var\", \"feature_dilated_res_2.block1.cb_residual.conv.weight\", \"feature_dilated_res_2.block1.cb_residual.batchnorm.weight\", \"feature_dilated_res_2.block1.cb_residual.batchnorm.bias\", \"feature_dilated_res_2.block1.cb_residual.batchnorm.running_mean\", \"feature_dilated_res_2.block1.cb_residual.batchnorm.running_var\", \"feature_dilated_res_2.block2.cbr_1.conv.weight\", \"feature_dilated_res_2.block2.cbr_1.batchnorm.weight\", \"feature_dilated_res_2.block2.cbr_1.batchnorm.bias\", \"feature_dilated_res_2.block2.cbr_1.batchnorm.running_mean\", \"feature_dilated_res_2.block2.cbr_1.batchnorm.running_var\", \"feature_dilated_res_2.block2.cbr_2.conv.weight\", \"feature_dilated_res_2.block2.cbr_2.batchnorm.weight\", \"feature_dilated_res_2.block2.cbr_2.batchnorm.bias\", \"feature_dilated_res_2.block2.cbr_2.batchnorm.running_mean\", \"feature_dilated_res_2.block2.cbr_2.batchnorm.running_var\", \"feature_dilated_res_2.block2.cb_3.conv.weight\", \"feature_dilated_res_2.block2.cb_3.batchnorm.weight\", \"feature_dilated_res_2.block2.cb_3.batchnorm.bias\", \"feature_dilated_res_2.block2.cb_3.batchnorm.running_mean\", \"feature_dilated_res_2.block2.cb_3.batchnorm.running_var\", \"feature_dilated_res_2.block3.cbr_1.conv.weight\", \"feature_dilated_res_2.block3.cbr_1.batchnorm.weight\", \"feature_dilated_res_2.block3.cbr_1.batchnorm.bias\", \"feature_dilated_res_2.block3.cbr_1.batchnorm.running_mean\", \"feature_dilated_res_2.block3.cbr_1.batchnorm.running_var\", \"feature_dilated_res_2.block3.cbr_2.conv.weight\", \"feature_dilated_res_2.block3.cbr_2.batchnorm.weight\", \"feature_dilated_res_2.block3.cbr_2.batchnorm.bias\", \"feature_dilated_res_2.block3.cbr_2.batchnorm.running_mean\", \"feature_dilated_res_2.block3.cbr_2.batchnorm.running_var\", \"feature_dilated_res_2.block3.cb_3.conv.weight\", \"feature_dilated_res_2.block3.cb_3.batchnorm.weight\", \"feature_dilated_res_2.block3.cb_3.batchnorm.bias\", \"feature_dilated_res_2.block3.cb_3.batchnorm.running_mean\", \"feature_dilated_res_2.block3.cb_3.batchnorm.running_var\", \"pyramid_pooling.cbr_1.conv.weight\", \"pyramid_pooling.cbr_1.batchnorm.weight\", \"pyramid_pooling.cbr_1.batchnorm.bias\", \"pyramid_pooling.cbr_1.batchnorm.running_mean\", \"pyramid_pooling.cbr_1.batchnorm.running_var\", \"pyramid_pooling.cbr_2.conv.weight\", \"pyramid_pooling.cbr_2.batchnorm.weight\", \"pyramid_pooling.cbr_2.batchnorm.bias\", \"pyramid_pooling.cbr_2.batchnorm.running_mean\", \"pyramid_pooling.cbr_2.batchnorm.running_var\", \"pyramid_pooling.cbr_3.conv.weight\", \"pyramid_pooling.cbr_3.batchnorm.weight\", \"pyramid_pooling.cbr_3.batchnorm.bias\", \"pyramid_pooling.cbr_3.batchnorm.running_mean\", \"pyramid_pooling.cbr_3.batchnorm.running_var\", \"pyramid_pooling.cbr_4.conv.weight\", \"pyramid_pooling.cbr_4.batchnorm.weight\", \"pyramid_pooling.cbr_4.batchnorm.bias\", \"pyramid_pooling.cbr_4.batchnorm.running_mean\", \"pyramid_pooling.cbr_4.batchnorm.running_var\", \"decode_feature.cbr.conv.weight\", \"decode_feature.cbr.batchnorm.weight\", \"decode_feature.cbr.batchnorm.bias\", \"decode_feature.cbr.batchnorm.running_mean\", \"decode_feature.cbr.batchnorm.running_var\", \"decode_feature.classification.weight\", \"decode_feature.classification.bias\", \"aux.cbr.conv.weight\", \"aux.cbr.batchnorm.weight\", \"aux.cbr.batchnorm.bias\", \"aux.cbr.batchnorm.running_mean\", \"aux.cbr.batchnorm.running_var\", \"aux.classification.weight\", \"aux.classification.bias\". \n\tUnexpected key(s) in state_dict: \"0.weight\", \"0.bias\", \"2.weight\", \"2.bias\", \"5.weight\", \"5.bias\", \"7.weight\", \"7.bias\", \"10.weight\", \"10.bias\", \"12.weight\", \"12.bias\", \"14.weight\", \"14.bias\", \"17.weight\", \"17.bias\", \"19.weight\", \"19.bias\", \"21.weight\", \"21.bias\", \"24.weight\", \"24.bias\", \"26.weight\", \"26.bias\", \"28.weight\", \"28.bias\", \"31.weight\", \"31.bias\", \"33.weight\", \"33.bias\". ",
     "output_type": "error",
     "traceback": [
      "\u001b[0;31m---------------------------------------------------------------------------\u001b[0m",
      "\u001b[0;31mRuntimeError\u001b[0m                              Traceback (most recent call last)",
      "\u001b[0;32m<ipython-input-25-4d87d2ce01d1>\u001b[0m in \u001b[0;36m<module>\u001b[0;34m\u001b[0m\n\u001b[1;32m      3\u001b[0m \u001b[0;31m# ADE20K学習済みパラメータをロード\u001b[0m\u001b[0;34m\u001b[0m\u001b[0;34m\u001b[0m\u001b[0;34m\u001b[0m\u001b[0m\n\u001b[1;32m      4\u001b[0m \u001b[0mstate_dict\u001b[0m \u001b[0;34m=\u001b[0m \u001b[0mtorch\u001b[0m\u001b[0;34m.\u001b[0m\u001b[0mload\u001b[0m\u001b[0;34m(\u001b[0m\u001b[0;34m\"./weights/vgg16_reducedfc.pth\"\u001b[0m\u001b[0;34m)\u001b[0m\u001b[0;34m\u001b[0m\u001b[0;34m\u001b[0m\u001b[0m\n\u001b[0;32m----> 5\u001b[0;31m \u001b[0mnet\u001b[0m\u001b[0;34m.\u001b[0m\u001b[0mload_state_dict\u001b[0m\u001b[0;34m(\u001b[0m\u001b[0mstate_dict\u001b[0m\u001b[0;34m)\u001b[0m\u001b[0;34m\u001b[0m\u001b[0;34m\u001b[0m\u001b[0m\n\u001b[0m\u001b[1;32m      6\u001b[0m \u001b[0;34m\u001b[0m\u001b[0m\n\u001b[1;32m      7\u001b[0m \u001b[0;34m\u001b[0m\u001b[0m\n",
      "\u001b[0;32m~/anaconda3/envs/pytorch/lib/python3.6/site-packages/torch/nn/modules/module.py\u001b[0m in \u001b[0;36mload_state_dict\u001b[0;34m(self, state_dict, strict)\u001b[0m\n\u001b[1;32m    828\u001b[0m         \u001b[0;32mif\u001b[0m \u001b[0mlen\u001b[0m\u001b[0;34m(\u001b[0m\u001b[0merror_msgs\u001b[0m\u001b[0;34m)\u001b[0m \u001b[0;34m>\u001b[0m \u001b[0;36m0\u001b[0m\u001b[0;34m:\u001b[0m\u001b[0;34m\u001b[0m\u001b[0;34m\u001b[0m\u001b[0m\n\u001b[1;32m    829\u001b[0m             raise RuntimeError('Error(s) in loading state_dict for {}:\\n\\t{}'.format(\n\u001b[0;32m--> 830\u001b[0;31m                                self.__class__.__name__, \"\\n\\t\".join(error_msgs)))\n\u001b[0m\u001b[1;32m    831\u001b[0m         \u001b[0;32mreturn\u001b[0m \u001b[0m_IncompatibleKeys\u001b[0m\u001b[0;34m(\u001b[0m\u001b[0mmissing_keys\u001b[0m\u001b[0;34m,\u001b[0m \u001b[0munexpected_keys\u001b[0m\u001b[0;34m)\u001b[0m\u001b[0;34m\u001b[0m\u001b[0;34m\u001b[0m\u001b[0m\n\u001b[1;32m    832\u001b[0m \u001b[0;34m\u001b[0m\u001b[0m\n",
      "\u001b[0;31mRuntimeError\u001b[0m: Error(s) in loading state_dict for PSPNet:\n\tMissing key(s) in state_dict: \"feature_conv.cbnr_1.conv.weight\", \"feature_conv.cbnr_1.batchnorm.weight\", \"feature_conv.cbnr_1.batchnorm.bias\", \"feature_conv.cbnr_1.batchnorm.running_mean\", \"feature_conv.cbnr_1.batchnorm.running_var\", \"feature_conv.cbnr_2.conv.weight\", \"feature_conv.cbnr_2.batchnorm.weight\", \"feature_conv.cbnr_2.batchnorm.bias\", \"feature_conv.cbnr_2.batchnorm.running_mean\", \"feature_conv.cbnr_2.batchnorm.running_var\", \"feature_conv.cbnr_3.conv.weight\", \"feature_conv.cbnr_3.batchnorm.weight\", \"feature_conv.cbnr_3.batchnorm.bias\", \"feature_conv.cbnr_3.batchnorm.running_mean\", \"feature_conv.cbnr_3.batchnorm.running_var\", \"feature_res_1.block1.cbr_1.conv.weight\", \"feature_res_1.block1.cbr_1.batchnorm.weight\", \"feature_res_1.block1.cbr_1.batchnorm.bias\", \"feature_res_1.block1.cbr_1.batchnorm.running_mean\", \"feature_res_1.block1.cbr_1.batchnorm.running_var\", \"feature_res_1.block1.cbr_2.conv.weight\", \"feature_res_1.block1.cbr_2.batchnorm.weight\", \"feature_res_1.block1.cbr_2.batchnorm.bias\", \"feature_res_1.block1.cbr_2.batchnorm.running_mean\", \"feature_res_1.block1.cbr_2.batchnorm.running_var\", \"feature_res_1.block1.cb_3.conv.weight\", \"feature_res_1.block1.cb_3.batchnorm.weight\", \"feature_res_1.block1.cb_3.batchnorm.bias\", \"feature_res_1.block1.cb_3.batchnorm.running_mean\", \"feature_res_1.block1.cb_3.batchnorm.running_var\", \"feature_res_1.block1.cb_residual.conv.weight\", \"feature_res_1.block1.cb_residual.batchnorm.weight\", \"feature_res_1.block1.cb_residual.batchnorm.bias\", \"feature_res_1.block1.cb_residual.batchnorm.running_mean\", \"feature_res_1.block1.cb_residual.batchnorm.running_var\", \"feature_res_1.block2.cbr_1.conv.weight\", \"feature_res_1.block2.cbr_1.batchnorm.weight\", \"feature_res_1.block2.cbr_1.batchnorm.bias\", \"feature_res_1.block2.cbr_1.batchnorm.running_mean\", \"feature_res_1.block2.cbr_1.batchnorm.running_var\", \"feature_res_1.block2.cbr_2.conv.weight\", \"feature_res_1.block2.cbr_2.batchnorm.weight\", \"feature_res_1.block2.cbr_2.batchnorm.bias\", \"feature_res_1.block2.cbr_2.batchnorm.running_mean\", \"feature_res_1.block2.cbr_2.batchnorm.running_var\", \"feature_res_1.block2.cb_3.conv.weight\", \"feature_res_1.block2.cb_3.batchnorm.weight\", \"feature_res_1.block2.cb_3.batchnorm.bias\", \"feature_res_1.block2.cb_3.batchnorm.running_mean\", \"feature_res_1.block2.cb_3.batchnorm.running_var\", \"feature_res_1.block3.cbr_1.conv.weight\", \"feature_res_1.block3.cbr_1.batchnorm.weight\", \"feature_res_1.block3.cbr_1.batchnorm.bias\", \"feature_res_1.block3.cbr_1.batchnorm.running_mean\", \"feature_res_1.block3.cbr_1.batchnorm.running_var\", \"feature_res_1.block3.cbr_2.conv.weight\", \"feature_res_1.block3.cbr_2.batchnorm.weight\", \"feature_res_1.block3.cbr_2.batchnorm.bias\", \"feature_res_1.block3.cbr_2.batchnorm.running_mean\", \"feature_res_1.block3.cbr_2.batchnorm.running_var\", \"feature_res_1.block3.cb_3.conv.weight\", \"feature_res_1.block3.cb_3.batchnorm.weight\", \"feature_res_1.block3.cb_3.batchnorm.bias\", \"feature_res_1.block3.cb_3.batchnorm.running_mean\", \"feature_res_1.block3.cb_3.batchnorm.running_var\", \"feature_res_2.block1.cbr_1.conv.weight\", \"feature_res_2.block1.cbr_1.batchnorm.weight\", \"feature_res_2.block1.cbr_1.batchnorm.bias\", \"feature_res_2.block1.cbr_1.batchnorm.running_mean\", \"feature_res_2.block1.cbr_1.batchnorm.running_var\", \"feature_res_2.block1.cbr_2.conv.weight\", \"feature_res_2.block1.cbr_2.batchnorm.weight\", \"feature_res_2.block1.cbr_2.batchnorm.bias\", \"feature_res_2.block1.cbr_2.batchnorm.running_mean\", \"feature_res_2.block1.cbr_2.batchnorm.running_var\", \"feature_res_2.block1.cb_3.conv.weight\", \"feature_res_2.block1.cb_3.batchnorm.weight\", \"feature_res_2.block1.cb_3.batchnorm.bias\", \"feature_res_2.block1.cb_3.batchnorm.running_mean\", \"feature_res_2.block1.cb_3.batchnorm.running_var\", \"feature_res_2.block1.cb_residual.conv.weight\", \"feature_res_2.block1.cb_residual.batchnorm.weight\", \"feature_res_2.block1.cb_residual.batchnorm.bias\", \"feature_res_2.block1.cb_residual.batchnorm.running_mean\", \"feature_res_2.block1.cb_residual.batchnorm.running_var\", \"feature_res_2.block2.cbr_1.conv.weight\", \"feature_res_2.block2.cbr_1.batchnorm.weight\", \"feature_res_2.block2.cbr_1.batchnorm.bias\", \"feature_res_2.block2.cbr_1.batchnorm.running_mean\", \"feature_res_2.block2.cbr_1.batchnorm.running_var\", \"feature_res_2.block2.cbr_2.conv.weight\", \"feature_res_2.block2.cbr_2.batchnorm.weight\", \"feature_res_2.block2.cbr_2.batchnorm.bias\", \"feature_res_2.block2.cbr_2.batchnorm.running_mean\", \"feature_res_2.block2.cbr_2.batchnorm.running_var\", \"feature_res_2.block2.cb_3.conv.weight\", \"feature_res_2.block2.cb_3.batchnorm.weight\", \"feature_res_2.block2.cb_3.batchnorm.bias\", \"feature_res_2.block2.cb_3.batchnorm.running_mean\", \"feature_res_2.block2.cb_3.batchnorm.running_var\", \"feature_res_2.block3.cbr_1.conv.weight\", \"feature_res_2.block3.cbr_1.batchnorm.weight\", \"feature_res_2.block3.cbr_1.batchnorm.bias\", \"feature_res_2.block3.cbr_1.batchnorm.running_mean\", \"feature_res_2.block3.cbr_1.batchnorm.running_var\", \"feature_res_2.block3.cbr_2.conv.weight\", \"feature_res_2.block3.cbr_2.batchnorm.weight\", \"feature_res_2.block3.cbr_2.batchnorm.bias\", \"feature_res_2.block3.cbr_2.batchnorm.running_mean\", \"feature_res_2.block3.cbr_2.batchnorm.running_var\", \"feature_res_2.block3.cb_3.conv.weight\", \"feature_res_2.block3.cb_3.batchnorm.weight\", \"feature_res_2.block3.cb_3.batchnorm.bias\", \"feature_res_2.block3.cb_3.batchnorm.running_mean\", \"feature_res_2.block3.cb_3.batchnorm.running_var\", \"feature_res_2.block4.cbr_1.conv.weight\", \"feature_res_2.block4.cbr_1.batchnorm.weight\", \"feature_res_2.block4.cbr_1.batchnorm.bias\", \"feature_res_2.block4.cbr_1.batchnorm.running_mean\", \"feature_res_2.block4.cbr_1.batchnorm.running_var\", \"feature_res_2.block4.cbr_2.conv.weight\", \"feature_res_2.block4.cbr_2.batchnorm.weight\", \"feature_res_2.block4.cbr_2.batchnorm.bias\", \"feature_res_2.block4.cbr_2.batchnorm.running_mean\", \"feature_res_2.block4.cbr_2.batchnorm.running_var\", \"feature_res_2.block4.cb_3.conv.weight\", \"feature_res_2.block4.cb_3.batchnorm.weight\", \"feature_res_2.block4.cb_3.batchnorm.bias\", \"feature_res_2.block4.cb_3.batchnorm.running_mean\", \"feature_res_2.block4.cb_3.batchnorm.running_var\", \"feature_dilated_res_1.block1.cbr_1.conv.weight\", \"feature_dilated_res_1.block1.cbr_1.batchnorm.weight\", \"feature_dilated_res_1.block1.cbr_1.batchnorm.bias\", \"feature_dilated_res_1.block1.cbr_1.batchnorm.running_mean\", \"feature_dilated_res_1.block1.cbr_1.batchnorm.running_var\", \"feature_dilated_res_1.block1.cbr_2.conv.weight\", \"feature_dilated_res_1.block1.cbr_2.batchnorm.weight\", \"feature_dilated_res_1.block1.cbr_2.batchnorm.bias\", \"feature_dilated_res_1.block1.cbr_2.batchnorm.running_mean\", \"feature_dilated_res_1.block1.cbr_2.batchnorm.running_var\", \"feature_dilated_res_1.block1.cb_3.conv.weight\", \"feature_dilated_res_1.block1.cb_3.batchnorm.weight\", \"feature_dilated_res_1.block1.cb_3.batchnorm.bias\", \"feature_dilated_res_1.block1.cb_3.batchnorm.running_mean\", \"feature_dilated_res_1.block1.cb_3.batchnorm.running_var\", \"feature_dilated_res_1.block1.cb_residual.conv.weight\", \"feature_dilated_res_1.block1.cb_residual.batchnorm.weight\", \"feature_dilated_res_1.block1.cb_residual.batchnorm.bias\", \"feature_dilated_res_1.block1.cb_residual.batchnorm.running_mean\", \"feature_dilated_res_1.block1.cb_residual.batchnorm.running_var\", \"feature_dilated_res_1.block2.cbr_1.conv.weight\", \"feature_dilated_res_1.block2.cbr_1.batchnorm.weight\", \"feature_dilated_res_1.block2.cbr_1.batchnorm.bias\", \"feature_dilated_res_1.block2.cbr_1.batchnorm.running_mean\", \"feature_dilated_res_1.block2.cbr_1.batchnorm.running_var\", \"feature_dilated_res_1.block2.cbr_2.conv.weight\", \"feature_dilated_res_1.block2.cbr_2.batchnorm.weight\", \"feature_dilated_res_1.block2.cbr_2.batchnorm.bias\", \"feature_dilated_res_1.block2.cbr_2.batchnorm.running_mean\", \"feature_dilated_res_1.block2.cbr_2.batchnorm.running_var\", \"feature_dilated_res_1.block2.cb_3.conv.weight\", \"feature_dilated_res_1.block2.cb_3.batchnorm.weight\", \"feature_dilated_res_1.block2.cb_3.batchnorm.bias\", \"feature_dilated_res_1.block2.cb_3.batchnorm.running_mean\", \"feature_dilated_res_1.block2.cb_3.batchnorm.running_var\", \"feature_dilated_res_1.block3.cbr_1.conv.weight\", \"feature_dilated_res_1.block3.cbr_1.batchnorm.weight\", \"feature_dilated_res_1.block3.cbr_1.batchnorm.bias\", \"feature_dilated_res_1.block3.cbr_1.batchnorm.running_mean\", \"feature_dilated_res_1.block3.cbr_1.batchnorm.running_var\", \"feature_dilated_res_1.block3.cbr_2.conv.weight\", \"feature_dilated_res_1.block3.cbr_2.batchnorm.weight\", \"feature_dilated_res_1.block3.cbr_2.batchnorm.bias\", \"feature_dilated_res_1.block3.cbr_2.batchnorm.running_mean\", \"feature_dilated_res_1.block3.cbr_2.batchnorm.running_var\", \"feature_dilated_res_1.block3.cb_3.conv.weight\", \"feature_dilated_res_1.block3.cb_3.batchnorm.weight\", \"feature_dilated_res_1.block3.cb_3.batchnorm.bias\", \"feature_dilated_res_1.block3.cb_3.batchnorm.running_mean\", \"feature_dilated_res_1.block3.cb_3.batchnorm.running_var\", \"feature_dilated_res_1.block4.cbr_1.conv.weight\", \"feature_dilated_res_1.block4.cbr_1.batchnorm.weight\", \"feature_dilated_res_1.block4.cbr_1.batchnorm.bias\", \"feature_dilated_res_1.block4.cbr_1.batchnorm.running_mean\", \"feature_dilated_res_1.block4.cbr_1.batchnorm.running_var\", \"feature_dilated_res_1.block4.cbr_2.conv.weight\", \"feature_dilated_res_1.block4.cbr_2.batchnorm.weight\", \"feature_dilated_res_1.block4.cbr_2.batchnorm.bias\", \"feature_dilated_res_1.block4.cbr_2.batchnorm.running_mean\", \"feature_dilated_res_1.block4.cbr_2.batchnorm.running_var\", \"feature_dilated_res_1.block4.cb_3.conv.weight\", \"feature_dilated_res_1.block4.cb_3.batchnorm.weight\", \"feature_dilated_res_1.block4.cb_3.batchnorm.bias\", \"feature_dilated_res_1.block4.cb_3.batchnorm.running_mean\", \"feature_dilated_res_1.block4.cb_3.batchnorm.running_var\", \"feature_dilated_res_1.block5.cbr_1.conv.weight\", \"feature_dilated_res_1.block5.cbr_1.batchnorm.weight\", \"feature_dilated_res_1.block5.cbr_1.batchnorm.bias\", \"feature_dilated_res_1.block5.cbr_1.batchnorm.running_mean\", \"feature_dilated_res_1.block5.cbr_1.batchnorm.running_var\", \"feature_dilated_res_1.block5.cbr_2.conv.weight\", \"feature_dilated_res_1.block5.cbr_2.batchnorm.weight\", \"feature_dilated_res_1.block5.cbr_2.batchnorm.bias\", \"feature_dilated_res_1.block5.cbr_2.batchnorm.running_mean\", \"feature_dilated_res_1.block5.cbr_2.batchnorm.running_var\", \"feature_dilated_res_1.block5.cb_3.conv.weight\", \"feature_dilated_res_1.block5.cb_3.batchnorm.weight\", \"feature_dilated_res_1.block5.cb_3.batchnorm.bias\", \"feature_dilated_res_1.block5.cb_3.batchnorm.running_mean\", \"feature_dilated_res_1.block5.cb_3.batchnorm.running_var\", \"feature_dilated_res_1.block6.cbr_1.conv.weight\", \"feature_dilated_res_1.block6.cbr_1.batchnorm.weight\", \"feature_dilated_res_1.block6.cbr_1.batchnorm.bias\", \"feature_dilated_res_1.block6.cbr_1.batchnorm.running_mean\", \"feature_dilated_res_1.block6.cbr_1.batchnorm.running_var\", \"feature_dilated_res_1.block6.cbr_2.conv.weight\", \"feature_dilated_res_1.block6.cbr_2.batchnorm.weight\", \"feature_dilated_res_1.block6.cbr_2.batchnorm.bias\", \"feature_dilated_res_1.block6.cbr_2.batchnorm.running_mean\", \"feature_dilated_res_1.block6.cbr_2.batchnorm.running_var\", \"feature_dilated_res_1.block6.cb_3.conv.weight\", \"feature_dilated_res_1.block6.cb_3.batchnorm.weight\", \"feature_dilated_res_1.block6.cb_3.batchnorm.bias\", \"feature_dilated_res_1.block6.cb_3.batchnorm.running_mean\", \"feature_dilated_res_1.block6.cb_3.batchnorm.running_var\", \"feature_dilated_res_2.block1.cbr_1.conv.weight\", \"feature_dilated_res_2.block1.cbr_1.batchnorm.weight\", \"feature_dilated_res_2.block1.cbr_1.batchnorm.bias\", \"feature_dilated_res_2.block1.cbr_1.batchnorm.running_mean\", \"feature_dilated_res_2.block1.cbr_1.batchnorm.running_var\", \"feature_dilated_res_2.block1.cbr_2.conv.weight\", \"feature_dilated_res_2.block1.cbr_2.batchnorm.weight\", \"feature_dilated_res_2.block1.cbr_2.batchnorm.bias\", \"feature_dilated_res_2.block1.cbr_2.batchnorm.running_mean\", \"feature_dilated_res_2.block1.cbr_2.batchnorm.running_var\", \"feature_dilated_res_2.block1.cb_3.conv.weight\", \"feature_dilated_res_2.block1.cb_3.batchnorm.weight\", \"feature_dilated_res_2.block1.cb_3.batchnorm.bias\", \"feature_dilated_res_2.block1.cb_3.batchnorm.running_mean\", \"feature_dilated_res_2.block1.cb_3.batchnorm.running_var\", \"feature_dilated_res_2.block1.cb_residual.conv.weight\", \"feature_dilated_res_2.block1.cb_residual.batchnorm.weight\", \"feature_dilated_res_2.block1.cb_residual.batchnorm.bias\", \"feature_dilated_res_2.block1.cb_residual.batchnorm.running_mean\", \"feature_dilated_res_2.block1.cb_residual.batchnorm.running_var\", \"feature_dilated_res_2.block2.cbr_1.conv.weight\", \"feature_dilated_res_2.block2.cbr_1.batchnorm.weight\", \"feature_dilated_res_2.block2.cbr_1.batchnorm.bias\", \"feature_dilated_res_2.block2.cbr_1.batchnorm.running_mean\", \"feature_dilated_res_2.block2.cbr_1.batchnorm.running_var\", \"feature_dilated_res_2.block2.cbr_2.conv.weight\", \"feature_dilated_res_2.block2.cbr_2.batchnorm.weight\", \"feature_dilated_res_2.block2.cbr_2.batchnorm.bias\", \"feature_dilated_res_2.block2.cbr_2.batchnorm.running_mean\", \"feature_dilated_res_2.block2.cbr_2.batchnorm.running_var\", \"feature_dilated_res_2.block2.cb_3.conv.weight\", \"feature_dilated_res_2.block2.cb_3.batchnorm.weight\", \"feature_dilated_res_2.block2.cb_3.batchnorm.bias\", \"feature_dilated_res_2.block2.cb_3.batchnorm.running_mean\", \"feature_dilated_res_2.block2.cb_3.batchnorm.running_var\", \"feature_dilated_res_2.block3.cbr_1.conv.weight\", \"feature_dilated_res_2.block3.cbr_1.batchnorm.weight\", \"feature_dilated_res_2.block3.cbr_1.batchnorm.bias\", \"feature_dilated_res_2.block3.cbr_1.batchnorm.running_mean\", \"feature_dilated_res_2.block3.cbr_1.batchnorm.running_var\", \"feature_dilated_res_2.block3.cbr_2.conv.weight\", \"feature_dilated_res_2.block3.cbr_2.batchnorm.weight\", \"feature_dilated_res_2.block3.cbr_2.batchnorm.bias\", \"feature_dilated_res_2.block3.cbr_2.batchnorm.running_mean\", \"feature_dilated_res_2.block3.cbr_2.batchnorm.running_var\", \"feature_dilated_res_2.block3.cb_3.conv.weight\", \"feature_dilated_res_2.block3.cb_3.batchnorm.weight\", \"feature_dilated_res_2.block3.cb_3.batchnorm.bias\", \"feature_dilated_res_2.block3.cb_3.batchnorm.running_mean\", \"feature_dilated_res_2.block3.cb_3.batchnorm.running_var\", \"pyramid_pooling.cbr_1.conv.weight\", \"pyramid_pooling.cbr_1.batchnorm.weight\", \"pyramid_pooling.cbr_1.batchnorm.bias\", \"pyramid_pooling.cbr_1.batchnorm.running_mean\", \"pyramid_pooling.cbr_1.batchnorm.running_var\", \"pyramid_pooling.cbr_2.conv.weight\", \"pyramid_pooling.cbr_2.batchnorm.weight\", \"pyramid_pooling.cbr_2.batchnorm.bias\", \"pyramid_pooling.cbr_2.batchnorm.running_mean\", \"pyramid_pooling.cbr_2.batchnorm.running_var\", \"pyramid_pooling.cbr_3.conv.weight\", \"pyramid_pooling.cbr_3.batchnorm.weight\", \"pyramid_pooling.cbr_3.batchnorm.bias\", \"pyramid_pooling.cbr_3.batchnorm.running_mean\", \"pyramid_pooling.cbr_3.batchnorm.running_var\", \"pyramid_pooling.cbr_4.conv.weight\", \"pyramid_pooling.cbr_4.batchnorm.weight\", \"pyramid_pooling.cbr_4.batchnorm.bias\", \"pyramid_pooling.cbr_4.batchnorm.running_mean\", \"pyramid_pooling.cbr_4.batchnorm.running_var\", \"decode_feature.cbr.conv.weight\", \"decode_feature.cbr.batchnorm.weight\", \"decode_feature.cbr.batchnorm.bias\", \"decode_feature.cbr.batchnorm.running_mean\", \"decode_feature.cbr.batchnorm.running_var\", \"decode_feature.classification.weight\", \"decode_feature.classification.bias\", \"aux.cbr.conv.weight\", \"aux.cbr.batchnorm.weight\", \"aux.cbr.batchnorm.bias\", \"aux.cbr.batchnorm.running_mean\", \"aux.cbr.batchnorm.running_var\", \"aux.classification.weight\", \"aux.classification.bias\". \n\tUnexpected key(s) in state_dict: \"0.weight\", \"0.bias\", \"2.weight\", \"2.bias\", \"5.weight\", \"5.bias\", \"7.weight\", \"7.bias\", \"10.weight\", \"10.bias\", \"12.weight\", \"12.bias\", \"14.weight\", \"14.bias\", \"17.weight\", \"17.bias\", \"19.weight\", \"19.bias\", \"21.weight\", \"21.bias\", \"24.weight\", \"24.bias\", \"26.weight\", \"26.bias\", \"28.weight\", \"28.bias\", \"31.weight\", \"31.bias\", \"33.weight\", \"33.bias\". "
     ]
    }
   ],
   "source": [
    "net = PSPNet(n_classes=2)\n",
    "\n",
    "# ADE20K学習済みパラメータをロード\n",
    "state_dict = torch.load(\"./weights/vgg16_reducedfc.pth\")\n",
    "net.load_state_dict(state_dict)\n",
    "\n",
    "\n",
    "# 分類用の畳み込み層を、出力数21のものにつけかえる\n",
    "n_classes = 2\n",
    "net.decode_feature.classification = nn.Conv2d(\n",
    "    in_channels=512, out_channels=n_classes, kernel_size=1, stride=1, padding=0)\n",
    "\n",
    "net.aux.classification = nn.Conv2d(\n",
    "    in_channels=256, out_channels=n_classes, kernel_size=1, stride=1, padding=0)\n",
    "\n",
    "def weights_init(m):\n",
    "    if isinstance(m, nn.Conv2d):\n",
    "        nn.init.xavier_normal_(m.weight.data)\n",
    "        if m.bias is not None:  # バイアス項がある場合\n",
    "            nn.init.constant_(m.bias, 0.0)\n",
    "\n",
    "net.decode_feature.classification.apply(weights_init)\n",
    "net.aux.classification.apply(weights_init)\n",
    "\n",
    "\n",
    "print('ネットワーク設定完了：学習済みの重みをロードしました')"
   ]
  },
  {
   "cell_type": "code",
   "execution_count": null,
   "metadata": {},
   "outputs": [],
   "source": [
    "net\n"
   ]
  },
  {
   "cell_type": "markdown",
   "metadata": {},
   "source": [
    "損失関数"
   ]
  },
  {
   "cell_type": "code",
   "execution_count": 109,
   "metadata": {},
   "outputs": [],
   "source": [
    "class PSPLoss(nn.Module):\n",
    "    \"\"\"PSPNetの損失関数のクラスです。\"\"\"\n",
    "\n",
    "    def __init__(self, aux_weight=0.4):\n",
    "        super(PSPLoss, self).__init__()\n",
    "        self.aux_weight = aux_weight  # aux_lossの重み\n",
    "\n",
    "    def forward(self, outputs, targets):\n",
    "        \"\"\"\n",
    "        損失関数の計算。\n",
    "\n",
    "        Parameters\n",
    "        ----------\n",
    "        outputs : PSPNetの出力(tuple)\n",
    "            (output=torch.Size([num_batch, 21, 475, 475]), output_aux=torch.Size([num_batch, 21, 475, 475]))。\n",
    "\n",
    "        targets : [num_batch, 475, 4755]\n",
    "            正解のアノテーション情報\n",
    "\n",
    "        Returns\n",
    "        -------\n",
    "        loss : テンソル\n",
    "            損失の値\n",
    "        \"\"\"\n",
    "\n",
    "        loss = F.cross_entropy(outputs[0], targets, reduction='mean')\n",
    "        loss_aux = F.cross_entropy(outputs[1], targets, reduction='mean')\n",
    "\n",
    "        return loss+self.aux_weight*loss_aux\n",
    "\n",
    "\n",
    "criterion = PSPLoss(aux_weight=0.4)"
   ]
  },
  {
   "cell_type": "markdown",
   "metadata": {},
   "source": [
    "最適化手法"
   ]
  },
  {
   "cell_type": "code",
   "execution_count": 110,
   "metadata": {},
   "outputs": [],
   "source": [
    "# ファインチューニングなので、学習率は小さく\n",
    "optimizer = optim.SGD([\n",
    "    {'params': net.feature_conv.parameters(), 'lr': 1e-3},\n",
    "    {'params': net.feature_res_1.parameters(), 'lr': 1e-3},\n",
    "    {'params': net.feature_res_2.parameters(), 'lr': 1e-3},\n",
    "    {'params': net.feature_dilated_res_1.parameters(), 'lr': 1e-3},\n",
    "    {'params': net.feature_dilated_res_2.parameters(), 'lr': 1e-3},\n",
    "    {'params': net.pyramid_pooling.parameters(), 'lr': 1e-3},\n",
    "    {'params': net.decode_feature.parameters(), 'lr': 1e-2},\n",
    "    {'params': net.aux.parameters(), 'lr': 1e-2},\n",
    "], momentum=0.9, weight_decay=0.0001)\n",
    "\n",
    "\n",
    "# スケジューラーの設定\n",
    "def lambda_epoch(epoch):\n",
    "    max_epoch = 30\n",
    "    return math.pow((1-epoch/max_epoch), 0.9)\n",
    "\n",
    "\n",
    "scheduler = optim.lr_scheduler.LambdaLR(optimizer, lr_lambda=lambda_epoch)"
   ]
  },
  {
   "cell_type": "markdown",
   "metadata": {},
   "source": [
    "学習"
   ]
  },
  {
   "cell_type": "code",
   "execution_count": 111,
   "metadata": {},
   "outputs": [],
   "source": [
    "# モデルを学習させる関数を作成\n",
    "\n",
    "\n",
    "def train_model(net, dataloaders_dict, criterion, scheduler, optimizer, num_epochs):\n",
    "\n",
    "    # GPUが使えるかを確認\n",
    "    device = torch.device(\"cuda:0\" if torch.cuda.is_available() else \"cpu\")\n",
    "    print(\"使用デバイス：\", device)\n",
    "\n",
    "    # ネットワークをGPUへ\n",
    "    net.to(device)\n",
    "\n",
    "    # ネットワークがある程度固定であれば、高速化させる\n",
    "    torch.backends.cudnn.benchmark = True\n",
    "\n",
    "    # 画像の枚数\n",
    "    num_train_imgs = len(dataloaders_dict[\"train\"].dataset)\n",
    "    num_val_imgs = len(dataloaders_dict[\"val\"].dataset)\n",
    "    batch_size = dataloaders_dict[\"train\"].batch_size\n",
    "\n",
    "    # イテレーションカウンタをセット\n",
    "    iteration = 1\n",
    "    logs = []\n",
    "\n",
    "    # multiple minibatch\n",
    "    batch_multiplier = 3\n",
    "\n",
    "    # epochのループ\n",
    "    for epoch in range(num_epochs):\n",
    "\n",
    "        # 開始時刻を保存\n",
    "        t_epoch_start = time.time()\n",
    "        t_iter_start = time.time()\n",
    "        epoch_train_loss = 0.0  # epochの損失和\n",
    "        epoch_val_loss = 0.0  # epochの損失和\n",
    "\n",
    "        print('-------------')\n",
    "        print('Epoch {}/{}'.format(epoch+1, num_epochs))\n",
    "        print('-------------')\n",
    "\n",
    "        # epochごとの訓練と検証のループ\n",
    "        for phase in ['train', 'val']:\n",
    "            if phase == 'train':\n",
    "                net.train()  # モデルを訓練モードに\n",
    "                scheduler.step()  # 最適化schedulerの更新\n",
    "                optimizer.zero_grad()\n",
    "                print('（train）')\n",
    "\n",
    "            else:\n",
    "                if((epoch+1) % 5 == 0):\n",
    "                    net.eval()   # モデルを検証モードに\n",
    "                    print('-------------')\n",
    "                    print('（val）')\n",
    "                else:\n",
    "                    # 検証は5回に1回だけ行う\n",
    "                    continue\n",
    "\n",
    "            # データローダーからminibatchずつ取り出すループ\n",
    "            count = 0  # multiple minibatch\n",
    "            for imges, anno_class_imges in dataloaders_dict[phase]:\n",
    "                # ミニバッチがサイズが1だと、バッチノーマライゼーションでエラーになるのでさける\n",
    "                if imges.size()[0] == 1:\n",
    "                    continue\n",
    "\n",
    "                # GPUが使えるならGPUにデータを送る\n",
    "                imges = imges.to(device)\n",
    "                anno_class_imges = anno_class_imges.to(device)\n",
    "\n",
    "                \n",
    "                # multiple minibatchでのパラメータの更新\n",
    "                if (phase == 'train') and (count == 0):\n",
    "                    optimizer.step()\n",
    "                    optimizer.zero_grad()\n",
    "                    count = batch_multiplier\n",
    "\n",
    "                # 順伝搬（forward）計算\n",
    "                with torch.set_grad_enabled(phase == 'train'):\n",
    "                    outputs = net(imges)\n",
    "                    loss = criterion(\n",
    "                        outputs, anno_class_imges.long()) / batch_multiplier\n",
    "\n",
    "                    # 訓練時はバックプロパゲーション\n",
    "                    if phase == 'train':\n",
    "                        loss.backward()  # 勾配の計算\n",
    "                        count -= 1  # multiple minibatch\n",
    "\n",
    "                        if (iteration % 10 == 0):  # 10iterに1度、lossを表示\n",
    "                            t_iter_finish = time.time()\n",
    "                            duration = t_iter_finish - t_iter_start\n",
    "                            print('イテレーション {} || Loss: {:.4f} || 10iter: {:.4f} sec.'.format(\n",
    "                                iteration, loss.item()/batch_size*batch_multiplier, duration))\n",
    "                            t_iter_start = time.time()\n",
    "\n",
    "                        epoch_train_loss += loss.item() * batch_multiplier\n",
    "                        iteration += 1\n",
    "\n",
    "                    # 検証時\n",
    "                    else:\n",
    "                        epoch_val_loss += loss.item() * batch_multiplier\n",
    "\n",
    "        # epochのphaseごとのlossと正解率\n",
    "        t_epoch_finish = time.time()\n",
    "        print('-------------')\n",
    "        print('epoch {} || Epoch_TRAIN_Loss:{:.4f} ||Epoch_VAL_Loss:{:.4f}'.format(\n",
    "            epoch+1, epoch_train_loss/num_train_imgs, epoch_val_loss/num_val_imgs))\n",
    "        print('timer:  {:.4f} sec.'.format(t_epoch_finish - t_epoch_start))\n",
    "        t_epoch_start = time.time()\n",
    "\n",
    "        # ログを保存\n",
    "        log_epoch = {'epoch': epoch+1, 'train_loss': epoch_train_loss /\n",
    "                     num_train_imgs, 'val_loss': epoch_val_loss/num_val_imgs}\n",
    "        logs.append(log_epoch)\n",
    "        df = pd.DataFrame(logs)\n",
    "        df.to_csv(\"log_output.csv\")\n",
    "\n",
    "    # 最後のネットワークを保存する\n",
    "    torch.save(net.state_dict(), 'pspnet50_' +str(epoch+1) + '.pth')\n"
   ]
  },
  {
   "cell_type": "code",
   "execution_count": 112,
   "metadata": {},
   "outputs": [
    {
     "name": "stdout",
     "output_type": "stream",
     "text": [
      "使用デバイス： cuda:0\n",
      "-------------\n",
      "Epoch 1/30\n",
      "-------------\n",
      "（train）\n",
      "-------------\n",
      "epoch 1 || Epoch_TRAIN_Loss:0.1483 ||Epoch_VAL_Loss:0.0000\n",
      "timer:  2.4145 sec.\n",
      "-------------\n",
      "Epoch 2/30\n",
      "-------------\n",
      "（train）\n"
     ]
    },
    {
     "ename": "RuntimeError",
     "evalue": "CUDA out of memory. Tried to allocate 450.00 MiB (GPU 0; 10.91 GiB total capacity; 9.15 GiB already allocated; 46.38 MiB free; 9.89 GiB reserved in total by PyTorch)",
     "output_type": "error",
     "traceback": [
      "\u001b[0;31m---------------------------------------------------------------------------\u001b[0m",
      "\u001b[0;31mRuntimeError\u001b[0m                              Traceback (most recent call last)",
      "\u001b[0;32m<ipython-input-112-6a2ef7f39e6c>\u001b[0m in \u001b[0;36m<module>\u001b[0;34m\u001b[0m\n\u001b[1;32m      1\u001b[0m \u001b[0;31m# 学習・検証を実行する\u001b[0m\u001b[0;34m\u001b[0m\u001b[0;34m\u001b[0m\u001b[0;34m\u001b[0m\u001b[0m\n\u001b[1;32m      2\u001b[0m \u001b[0mnum_epochs\u001b[0m \u001b[0;34m=\u001b[0m \u001b[0;36m30\u001b[0m\u001b[0;34m\u001b[0m\u001b[0;34m\u001b[0m\u001b[0m\n\u001b[0;32m----> 3\u001b[0;31m \u001b[0mtrain_model\u001b[0m\u001b[0;34m(\u001b[0m\u001b[0mnet\u001b[0m\u001b[0;34m,\u001b[0m \u001b[0mdataloaders_dict\u001b[0m\u001b[0;34m,\u001b[0m \u001b[0mcriterion\u001b[0m\u001b[0;34m,\u001b[0m \u001b[0mscheduler\u001b[0m\u001b[0;34m,\u001b[0m \u001b[0moptimizer\u001b[0m\u001b[0;34m,\u001b[0m \u001b[0mnum_epochs\u001b[0m\u001b[0;34m=\u001b[0m\u001b[0mnum_epochs\u001b[0m\u001b[0;34m)\u001b[0m\u001b[0;34m\u001b[0m\u001b[0;34m\u001b[0m\u001b[0m\n\u001b[0m",
      "\u001b[0;32m<ipython-input-111-281caa096ffa>\u001b[0m in \u001b[0;36mtrain_model\u001b[0;34m(net, dataloaders_dict, criterion, scheduler, optimizer, num_epochs)\u001b[0m\n\u001b[1;32m     82\u001b[0m                     \u001b[0;31m# 訓練時はバックプロパゲーション\u001b[0m\u001b[0;34m\u001b[0m\u001b[0;34m\u001b[0m\u001b[0;34m\u001b[0m\u001b[0m\n\u001b[1;32m     83\u001b[0m                     \u001b[0;32mif\u001b[0m \u001b[0mphase\u001b[0m \u001b[0;34m==\u001b[0m \u001b[0;34m'train'\u001b[0m\u001b[0;34m:\u001b[0m\u001b[0;34m\u001b[0m\u001b[0;34m\u001b[0m\u001b[0m\n\u001b[0;32m---> 84\u001b[0;31m                         \u001b[0mloss\u001b[0m\u001b[0;34m.\u001b[0m\u001b[0mbackward\u001b[0m\u001b[0;34m(\u001b[0m\u001b[0;34m)\u001b[0m  \u001b[0;31m# 勾配の計算\u001b[0m\u001b[0;34m\u001b[0m\u001b[0;34m\u001b[0m\u001b[0m\n\u001b[0m\u001b[1;32m     85\u001b[0m                         \u001b[0mcount\u001b[0m \u001b[0;34m-=\u001b[0m \u001b[0;36m1\u001b[0m  \u001b[0;31m# multiple minibatch\u001b[0m\u001b[0;34m\u001b[0m\u001b[0;34m\u001b[0m\u001b[0m\n\u001b[1;32m     86\u001b[0m \u001b[0;34m\u001b[0m\u001b[0m\n",
      "\u001b[0;32m~/anaconda3/envs/pytorch/lib/python3.6/site-packages/torch/tensor.py\u001b[0m in \u001b[0;36mbackward\u001b[0;34m(self, gradient, retain_graph, create_graph)\u001b[0m\n\u001b[1;32m    193\u001b[0m                 \u001b[0mproducts\u001b[0m\u001b[0;34m.\u001b[0m \u001b[0mDefaults\u001b[0m \u001b[0mto\u001b[0m\u001b[0;31m \u001b[0m\u001b[0;31m`\u001b[0m\u001b[0;31m`\u001b[0m\u001b[0;32mFalse\u001b[0m\u001b[0;31m`\u001b[0m\u001b[0;31m`\u001b[0m\u001b[0;34m.\u001b[0m\u001b[0;34m\u001b[0m\u001b[0;34m\u001b[0m\u001b[0m\n\u001b[1;32m    194\u001b[0m         \"\"\"\n\u001b[0;32m--> 195\u001b[0;31m         \u001b[0mtorch\u001b[0m\u001b[0;34m.\u001b[0m\u001b[0mautograd\u001b[0m\u001b[0;34m.\u001b[0m\u001b[0mbackward\u001b[0m\u001b[0;34m(\u001b[0m\u001b[0mself\u001b[0m\u001b[0;34m,\u001b[0m \u001b[0mgradient\u001b[0m\u001b[0;34m,\u001b[0m \u001b[0mretain_graph\u001b[0m\u001b[0;34m,\u001b[0m \u001b[0mcreate_graph\u001b[0m\u001b[0;34m)\u001b[0m\u001b[0;34m\u001b[0m\u001b[0;34m\u001b[0m\u001b[0m\n\u001b[0m\u001b[1;32m    196\u001b[0m \u001b[0;34m\u001b[0m\u001b[0m\n\u001b[1;32m    197\u001b[0m     \u001b[0;32mdef\u001b[0m \u001b[0mregister_hook\u001b[0m\u001b[0;34m(\u001b[0m\u001b[0mself\u001b[0m\u001b[0;34m,\u001b[0m \u001b[0mhook\u001b[0m\u001b[0;34m)\u001b[0m\u001b[0;34m:\u001b[0m\u001b[0;34m\u001b[0m\u001b[0;34m\u001b[0m\u001b[0m\n",
      "\u001b[0;32m~/anaconda3/envs/pytorch/lib/python3.6/site-packages/torch/autograd/__init__.py\u001b[0m in \u001b[0;36mbackward\u001b[0;34m(tensors, grad_tensors, retain_graph, create_graph, grad_variables)\u001b[0m\n\u001b[1;32m     97\u001b[0m     Variable._execution_engine.run_backward(\n\u001b[1;32m     98\u001b[0m         \u001b[0mtensors\u001b[0m\u001b[0;34m,\u001b[0m \u001b[0mgrad_tensors\u001b[0m\u001b[0;34m,\u001b[0m \u001b[0mretain_graph\u001b[0m\u001b[0;34m,\u001b[0m \u001b[0mcreate_graph\u001b[0m\u001b[0;34m,\u001b[0m\u001b[0;34m\u001b[0m\u001b[0;34m\u001b[0m\u001b[0m\n\u001b[0;32m---> 99\u001b[0;31m         allow_unreachable=True)  # allow_unreachable flag\n\u001b[0m\u001b[1;32m    100\u001b[0m \u001b[0;34m\u001b[0m\u001b[0m\n\u001b[1;32m    101\u001b[0m \u001b[0;34m\u001b[0m\u001b[0m\n",
      "\u001b[0;31mRuntimeError\u001b[0m: CUDA out of memory. Tried to allocate 450.00 MiB (GPU 0; 10.91 GiB total capacity; 9.15 GiB already allocated; 46.38 MiB free; 9.89 GiB reserved in total by PyTorch)"
     ]
    }
   ],
   "source": [
    "# 学習・検証を実行する\n",
    "num_epochs = 30\n",
    "train_model(net, dataloaders_dict, criterion, scheduler, optimizer, num_epochs=num_epochs)\n"
   ]
  },
  {
   "cell_type": "code",
   "execution_count": null,
   "metadata": {},
   "outputs": [],
   "source": []
  }
 ],
 "metadata": {
  "kernelspec": {
   "display_name": "Python 3",
   "language": "python",
   "name": "python3"
  },
  "language_info": {
   "codemirror_mode": {
    "name": "ipython",
    "version": 3
   },
   "file_extension": ".py",
   "mimetype": "text/x-python",
   "name": "python",
   "nbconvert_exporter": "python",
   "pygments_lexer": "ipython3",
   "version": "3.6.10"
  }
 },
 "nbformat": 4,
 "nbformat_minor": 4
}
